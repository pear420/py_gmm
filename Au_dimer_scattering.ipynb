{
 "cells": [
  {
   "cell_type": "markdown",
   "metadata": {},
   "source": [
    " # Dimer scattering pattern\n",
    " In this notebook we calculate the the optical spectra and scattering pattern of a symmetric Au dimer.The notebook is structured as follows:\n",
    " *  **Importing the libraries:** setup of useful settings and import of necessary libraries and databases.\n",
    " *  **Setting up the inputs:** definition of the inputs of the simulation.\n",
    " *  **Performing the calculations**: call to py_gmm to compute all the relevant far-field quantities.\n",
    " *  **Plotting the results**: plot of cross-section and radiation pattern\n",
    " \n",
    " In order to run the notebook Plotly library is needed. It can be installed with the following command (preferred):\n",
    " ```\n",
    " conda install -c https://conda.anaconda.org/plotly plotly\n",
    " ```\n",
    " or in alternative\n",
    " ```\n",
    " pip install plotly\n",
    "```\n",
    "Just one final thing: launch this notebook with the `--NotebookApp.iopub_data_rate_limit=1.0e10` option, or it will fail"
   ]
  },
  {
   "cell_type": "markdown",
   "metadata": {},
   "source": [
    "# Importing the libraries"
   ]
  },
  {
   "cell_type": "code",
   "execution_count": 1,
   "metadata": {
    "code_folding": [
     0
    ]
   },
   "outputs": [
    {
     "data": {
      "text/html": [
       "        <script type=\"text/javascript\">\n",
       "        window.PlotlyConfig = {MathJaxConfig: 'local'};\n",
       "        if (window.MathJax) {MathJax.Hub.Config({SVG: {font: \"STIX-Web\"}});}\n",
       "        if (typeof require !== 'undefined') {\n",
       "        require.undef(\"plotly\");\n",
       "        requirejs.config({\n",
       "            paths: {\n",
       "                'plotly': ['https://cdn.plot.ly/plotly-latest.min']\n",
       "            }\n",
       "        });\n",
       "        require(['plotly'], function(Plotly) {\n",
       "            window._Plotly = Plotly;\n",
       "        });\n",
       "        }\n",
       "        </script>\n",
       "        "
      ]
     },
     "metadata": {},
     "output_type": "display_data"
    },
    {
     "name": "stdout",
     "output_type": "stream",
     "text": [
      "3.8.1\n"
     ]
    }
   ],
   "source": [
    "#------Library loading------\n",
    "\n",
    "# numpy for matrix computations\n",
    "import numpy as np; import numpy.ma as ma\n",
    "\n",
    "# system libraries\n",
    "import sys\n",
    "\n",
    "# plotting libraries\n",
    "%matplotlib inline\n",
    "import matplotlib.pylab as plt\n",
    "from matplotlib.patches import Circle, Ellipse\n",
    "\n",
    "# Generalized Multiparticle Mie import\n",
    "sys.path.append('../')\n",
    "import py_gmm\n",
    "\n",
    "# plotly\n",
    "from plotly import __version__\n",
    "import plotly.graph_objs as go\n",
    "from plotly.offline import download_plotlyjs, init_notebook_mode, plot, iplot\n",
    "init_notebook_mode(connected=True)\n",
    "\n",
    "print(__version__) # requires version >= 1.9.0"
   ]
  },
  {
   "cell_type": "markdown",
   "metadata": {
    "code_folding": []
   },
   "source": [
    "# Setting up the inputs"
   ]
  },
  {
   "cell_type": "markdown",
   "metadata": {},
   "source": [
    "### Target inputs (optical constant database, sphere coordinates, composition and size)"
   ]
  },
  {
   "cell_type": "code",
   "execution_count": 2,
   "metadata": {
    "code_folding": [
     0
    ]
   },
   "outputs": [],
   "source": [
    "# building the optical constant database\n",
    "eps_db_out=py_gmm.mat.generate_eps_db('../epsilon/',ext='*.edb')\n",
    "eps_files,eps_names,eps_db=eps_db_out['eps_files'],eps_db_out['eps_names'],eps_db_out['eps_db']\n",
    "\n",
    "# sphere radius (in nm)\n",
    "v_r = np.array([ 40.,  40.])\n",
    "\n",
    "# sphere position (in nm)\n",
    "m_xyz = np.array([[  -42.5,    0. ,   0. ],\n",
    "                  [ 42.5,   0. ,   0. ]])\n",
    "\n",
    "# how many spheres in the target? We guess it from the length of the radius vector\n",
    "ns = len(v_r)\n",
    "\n",
    "# sphere composition, calling the names contained in \"eps_names\", just populated above\n",
    "target_comp= np.array(['eAuJCSTDf','eAuJCSTDf']) # vector containing the optical constants names\n",
    "\n",
    "# refractive index of the environment\n",
    "n_matrix = 1.33  # water"
   ]
  },
  {
   "cell_type": "markdown",
   "metadata": {},
   "source": [
    "### Plane wave incident field"
   ]
  },
  {
   "cell_type": "code",
   "execution_count": 3,
   "metadata": {
    "code_folding": [
     0
    ]
   },
   "outputs": [],
   "source": [
    "# Euler angles: (alpha,beta,gamma)=(0,0,0) means a z-directed, x-polarized plane wave\n",
    "alpha = 0.0   # azimuth\n",
    "beta = 0.0  # polar\n",
    "gamma = 0.0  # polarization\n",
    "\n",
    "# Wavelengths for the specrum computation\n",
    "wl_min = 300\n",
    "wl_max = 800\n",
    "n_wl = 250\n",
    "v_wl = np.linspace(wl_min,wl_max,n_wl)\n",
    "\n",
    "# Wavelength for the far field computation\n",
    "v_wl_lf = [530.0,650] # resonance wavelengths"
   ]
  },
  {
   "cell_type": "markdown",
   "metadata": {},
   "source": [
    "### Additional inputs for the simulation"
   ]
  },
  {
   "cell_type": "code",
   "execution_count": 4,
   "metadata": {
    "code_folding": [
     0
    ]
   },
   "outputs": [],
   "source": [
    "n_stop=10 # maximum multipolar expansion order\n",
    "f_int=0.0; # interaction cutoff (normally set to zero to have full interactions)\n",
    "lf_ratio=300; # plot sphere local field contribution up to a distance equal to d=lf_ratio*r_sphere\n",
    "qs_flag='no' # retarded simulation"
   ]
  },
  {
   "cell_type": "markdown",
   "metadata": {},
   "source": [
    "### Target plot"
   ]
  },
  {
   "cell_type": "code",
   "execution_count": 5,
   "metadata": {
    "code_folding": [
     0
    ]
   },
   "outputs": [
    {
     "data": {
      "image/png": "[encoded data removed]",
      "text/plain": [
       "<Figure size 720x720 with 1 Axes>"
      ]
     },
     "metadata": {},
     "output_type": "display_data"
    }
   ],
   "source": [
    "# target plot\n",
    "fig = plt.figure(num=1,figsize=(10,10)) # setting the figure size\n",
    "ax = fig.add_subplot(1, 1, 1, aspect='equal')  # creating the plotting axis\n",
    "\n",
    "# plot bounds and eliminating x and y ticks\n",
    "plt.xlim(-1.1*(-m_xyz[0,0]+v_r[0]),1.1*(m_xyz[1,0]+v_r[ns-1]))\n",
    "plt.ylim(-1.1*(v_r[0]),1.1*(v_r[0]))\n",
    "plt.xticks([])\n",
    "plt.yticks([])\n",
    "\n",
    "# plotting the target\n",
    "v_color = ['0.6','0.6']\n",
    "for c,r,col in zip(m_xyz,v_r,v_color):\n",
    "    c0=c[0];c1=c[1];\n",
    "    ax.add_patch(Circle((c0,c1),r,color=col))\n",
    "    ax.eventson"
   ]
  },
  {
   "cell_type": "markdown",
   "metadata": {},
   "source": [
    "# Performing the calculations"
   ]
  },
  {
   "cell_type": "markdown",
   "metadata": {},
   "source": [
    "### Scattering cross sections and field expansion coefficients for the spectral computation"
   ]
  },
  {
   "cell_type": "code",
   "execution_count": 6,
   "metadata": {
    "code_folding": [
     0
    ],
    "scrolled": true
   },
   "outputs": [
    {
     "ename": "KeyError",
     "evalue": "'eAuJCSTDf'",
     "output_type": "error",
     "traceback": [
      "\u001b[0;31m----------------------------------------------------------------------\u001b[0m",
      "\u001b[0;31mKeyError\u001b[0m                             Traceback (most recent call last)",
      "\u001b[0;32m<ipython-input-6-9736b750ebe7>\u001b[0m in \u001b[0;36m<module>\u001b[0;34m\u001b[0m\n\u001b[1;32m      4\u001b[0m \u001b[0;34m\u001b[0m\u001b[0m\n\u001b[1;32m      5\u001b[0m     \u001b[0;31m# retrieving optical constants at wl from the database\u001b[0m\u001b[0;34m\u001b[0m\u001b[0;34m\u001b[0m\u001b[0;34m\u001b[0m\u001b[0m\n\u001b[0;32m----> 6\u001b[0;31m     \u001b[0me_list\u001b[0m\u001b[0;34m=\u001b[0m\u001b[0mpy_gmm\u001b[0m\u001b[0;34m.\u001b[0m\u001b[0mmat\u001b[0m\u001b[0;34m.\u001b[0m\u001b[0mdb_to_eps\u001b[0m\u001b[0;34m(\u001b[0m\u001b[0mwl\u001b[0m\u001b[0;34m,\u001b[0m\u001b[0meps_db\u001b[0m\u001b[0;34m,\u001b[0m\u001b[0mtarget_comp\u001b[0m\u001b[0;34m)\u001b[0m\u001b[0;34m;\u001b[0m\u001b[0;34m\u001b[0m\u001b[0;34m\u001b[0m\u001b[0m\n\u001b[0m\u001b[1;32m      7\u001b[0m     \u001b[0mm_eps\u001b[0m\u001b[0;34m=\u001b[0m\u001b[0mnp\u001b[0m\u001b[0;34m.\u001b[0m\u001b[0mcolumn_stack\u001b[0m\u001b[0;34m(\u001b[0m\u001b[0;34m(\u001b[0m\u001b[0mnp\u001b[0m\u001b[0;34m.\u001b[0m\u001b[0mreal\u001b[0m\u001b[0;34m(\u001b[0m\u001b[0me_list\u001b[0m\u001b[0;34m)\u001b[0m\u001b[0;34m,\u001b[0m\u001b[0mnp\u001b[0m\u001b[0;34m.\u001b[0m\u001b[0mimag\u001b[0m\u001b[0;34m(\u001b[0m\u001b[0me_list\u001b[0m\u001b[0;34m)\u001b[0m\u001b[0;34m)\u001b[0m\u001b[0;34m)\u001b[0m\u001b[0;34m;\u001b[0m\u001b[0;34m\u001b[0m\u001b[0;34m\u001b[0m\u001b[0m\n\u001b[1;32m      8\u001b[0m \u001b[0;34m\u001b[0m\u001b[0m\n",
      "\u001b[0;32m~/Documents/py_gmm/py_gmm/mat.py\u001b[0m in \u001b[0;36mdb_to_eps\u001b[0;34m(wl, eps_db, eps_list)\u001b[0m\n\u001b[1;32m     87\u001b[0m     \u001b[0;31m# checking wavelength\u001b[0m\u001b[0;34m\u001b[0m\u001b[0;34m\u001b[0m\u001b[0;34m\u001b[0m\u001b[0m\n\u001b[1;32m     88\u001b[0m     \u001b[0;32mfor\u001b[0m \u001b[0meps\u001b[0m \u001b[0;32min\u001b[0m \u001b[0meps_list\u001b[0m\u001b[0;34m:\u001b[0m\u001b[0;34m\u001b[0m\u001b[0;34m\u001b[0m\u001b[0m\n\u001b[0;32m---> 89\u001b[0;31m         \u001b[0;32mif\u001b[0m \u001b[0;34m(\u001b[0m\u001b[0mwl\u001b[0m \u001b[0;34m<\u001b[0m \u001b[0meps_db\u001b[0m\u001b[0;34m[\u001b[0m\u001b[0meps\u001b[0m\u001b[0;34m]\u001b[0m\u001b[0;34m[\u001b[0m\u001b[0;36m0\u001b[0m\u001b[0;34m]\u001b[0m\u001b[0;34m.\u001b[0m\u001b[0mmin\u001b[0m\u001b[0;34m(\u001b[0m\u001b[0;34m)\u001b[0m\u001b[0;34m)\u001b[0m\u001b[0;34m:\u001b[0m\u001b[0;34m\u001b[0m\u001b[0;34m\u001b[0m\u001b[0m\n\u001b[0m\u001b[1;32m     90\u001b[0m             raise ValueError('interpolation wavelength too small: '\n\u001b[1;32m     91\u001b[0m                              \u001b[0;34m+\u001b[0m \u001b[0meps\u001b[0m \u001b[0;34m+\u001b[0m \u001b[0;34m'('\u001b[0m \u001b[0;34m+\u001b[0m \u001b[0mstr\u001b[0m\u001b[0;34m(\u001b[0m\u001b[0mwl\u001b[0m\u001b[0;34m)\u001b[0m \u001b[0;34m+\u001b[0m \u001b[0;34m'/'\u001b[0m \u001b[0;34m+\u001b[0m\u001b[0;34m\u001b[0m\u001b[0;34m\u001b[0m\u001b[0m\n",
      "\u001b[0;31mKeyError\u001b[0m: 'eAuJCSTDf'"
     ]
    }
   ],
   "source": [
    "# computing the expansion coefficients and cross sections with a loop\n",
    "m_abcd_ext_sca_abs = []  # list to be filled with the output\n",
    "for wl in v_wl:\n",
    "    \n",
    "    # retrieving optical constants at wl from the database\n",
    "    e_list=py_gmm.mat.db_to_eps(wl,eps_db,target_comp);\n",
    "    m_eps=np.column_stack((np.real(e_list),np.imag(e_list)));\n",
    "    \n",
    "    # solving the gmm problem (calculating the cross sections and the expansion coefficients)\n",
    "    out=py_gmm.gmm_py.gmm_f2py_module.expansion_coefficients(m_xyz, # target sphere position in nm\n",
    "                                                      v_r,   # target sphere radii in nm\n",
    "                                                      m_eps, # e1 and e2 for each sphere\n",
    "                                                      f_int,  # interaction coefficient\n",
    "                                                      n_matrix, # environment refractive index\n",
    "                                                      wl, # computation wavelength\n",
    "                                                      alpha,beta,gamma, # euler angles for the incident pw\n",
    "                                                      n_stop, # maximum number for expansion coefficients\n",
    "                                                      qs_flag) # quasi static approximation\n",
    "    m_abcd_ext_sca_abs.append(out)\n",
    "    \n",
    "# extracting coefficients and cross section\n",
    "v_coeff=[];v_cext=[];v_csca=[];v_cabs=[];\n",
    "for out in m_abcd_ext_sca_abs:\n",
    "    v_coeff.append(out[0]);\n",
    "    v_cext.append(out[1]);\n",
    "    v_csca.append(out[2]);\n",
    "    v_cabs.append(out[3]);\n",
    "\n",
    "# converting the lists to numpy arrays\n",
    "v_coeff=np.array(v_coeff)\n",
    "v_cext=np.array(v_cext)\n",
    "v_csca=np.array(v_csca)\n",
    "v_cabs=np.array(v_cabs)"
   ]
  },
  {
   "cell_type": "markdown",
   "metadata": {},
   "source": [
    "### Scattered field"
   ]
  },
  {
   "cell_type": "code",
   "execution_count": 7,
   "metadata": {
    "code_folding": [
     0
    ]
   },
   "outputs": [
    {
     "ename": "KeyError",
     "evalue": "'eAuJCSTDf'",
     "output_type": "error",
     "traceback": [
      "\u001b[0;31m----------------------------------------------------------------------\u001b[0m",
      "\u001b[0;31mKeyError\u001b[0m                             Traceback (most recent call last)",
      "\u001b[0;32m<ipython-input-7-160a1009c354>\u001b[0m in \u001b[0;36m<module>\u001b[0;34m\u001b[0m\n\u001b[1;32m      4\u001b[0m \u001b[0;34m\u001b[0m\u001b[0m\n\u001b[1;32m      5\u001b[0m     \u001b[0;31m# optical constants\u001b[0m\u001b[0;34m\u001b[0m\u001b[0;34m\u001b[0m\u001b[0;34m\u001b[0m\u001b[0m\n\u001b[0;32m----> 6\u001b[0;31m     \u001b[0me_list\u001b[0m\u001b[0;34m=\u001b[0m\u001b[0mpy_gmm\u001b[0m\u001b[0;34m.\u001b[0m\u001b[0mmat\u001b[0m\u001b[0;34m.\u001b[0m\u001b[0mdb_to_eps\u001b[0m\u001b[0;34m(\u001b[0m\u001b[0mwl_lf\u001b[0m\u001b[0;34m,\u001b[0m\u001b[0meps_db\u001b[0m\u001b[0;34m,\u001b[0m\u001b[0mtarget_comp\u001b[0m\u001b[0;34m)\u001b[0m\u001b[0;34m;\u001b[0m\u001b[0;34m\u001b[0m\u001b[0;34m\u001b[0m\u001b[0m\n\u001b[0m\u001b[1;32m      7\u001b[0m     \u001b[0mm_eps\u001b[0m\u001b[0;34m=\u001b[0m\u001b[0mnp\u001b[0m\u001b[0;34m.\u001b[0m\u001b[0mcolumn_stack\u001b[0m\u001b[0;34m(\u001b[0m\u001b[0;34m(\u001b[0m\u001b[0mnp\u001b[0m\u001b[0;34m.\u001b[0m\u001b[0mreal\u001b[0m\u001b[0;34m(\u001b[0m\u001b[0me_list\u001b[0m\u001b[0;34m)\u001b[0m\u001b[0;34m,\u001b[0m\u001b[0mnp\u001b[0m\u001b[0;34m.\u001b[0m\u001b[0mimag\u001b[0m\u001b[0;34m(\u001b[0m\u001b[0me_list\u001b[0m\u001b[0;34m)\u001b[0m\u001b[0;34m)\u001b[0m\u001b[0;34m)\u001b[0m\u001b[0;34m;\u001b[0m\u001b[0;34m\u001b[0m\u001b[0;34m\u001b[0m\u001b[0m\n\u001b[1;32m      8\u001b[0m \u001b[0;34m\u001b[0m\u001b[0m\n",
      "\u001b[0;32m~/Documents/py_gmm/py_gmm/mat.py\u001b[0m in \u001b[0;36mdb_to_eps\u001b[0;34m(wl, eps_db, eps_list)\u001b[0m\n\u001b[1;32m     87\u001b[0m     \u001b[0;31m# checking wavelength\u001b[0m\u001b[0;34m\u001b[0m\u001b[0;34m\u001b[0m\u001b[0;34m\u001b[0m\u001b[0m\n\u001b[1;32m     88\u001b[0m     \u001b[0;32mfor\u001b[0m \u001b[0meps\u001b[0m \u001b[0;32min\u001b[0m \u001b[0meps_list\u001b[0m\u001b[0;34m:\u001b[0m\u001b[0;34m\u001b[0m\u001b[0;34m\u001b[0m\u001b[0m\n\u001b[0;32m---> 89\u001b[0;31m         \u001b[0;32mif\u001b[0m \u001b[0;34m(\u001b[0m\u001b[0mwl\u001b[0m \u001b[0;34m<\u001b[0m \u001b[0meps_db\u001b[0m\u001b[0;34m[\u001b[0m\u001b[0meps\u001b[0m\u001b[0;34m]\u001b[0m\u001b[0;34m[\u001b[0m\u001b[0;36m0\u001b[0m\u001b[0;34m]\u001b[0m\u001b[0;34m.\u001b[0m\u001b[0mmin\u001b[0m\u001b[0;34m(\u001b[0m\u001b[0;34m)\u001b[0m\u001b[0;34m)\u001b[0m\u001b[0;34m:\u001b[0m\u001b[0;34m\u001b[0m\u001b[0;34m\u001b[0m\u001b[0m\n\u001b[0m\u001b[1;32m     90\u001b[0m             raise ValueError('interpolation wavelength too small: '\n\u001b[1;32m     91\u001b[0m                              \u001b[0;34m+\u001b[0m \u001b[0meps\u001b[0m \u001b[0;34m+\u001b[0m \u001b[0;34m'('\u001b[0m \u001b[0;34m+\u001b[0m \u001b[0mstr\u001b[0m\u001b[0;34m(\u001b[0m\u001b[0mwl\u001b[0m\u001b[0;34m)\u001b[0m \u001b[0;34m+\u001b[0m \u001b[0;34m'/'\u001b[0m \u001b[0;34m+\u001b[0m\u001b[0;34m\u001b[0m\u001b[0;34m\u001b[0m\u001b[0m\n",
      "\u001b[0;31mKeyError\u001b[0m: 'eAuJCSTDf'"
     ]
    }
   ],
   "source": [
    "# local field for the first resonance\n",
    "v_far = []\n",
    "for wl_lf in v_wl_lf:\n",
    "\n",
    "    # optical constants\n",
    "    e_list=py_gmm.mat.db_to_eps(wl_lf,eps_db,target_comp);\n",
    "    m_eps=np.column_stack((np.real(e_list),np.imag(e_list)));\n",
    "\n",
    "    # gmm coefficients computation\n",
    "    out=py_gmm.gmm_py.gmm_f2py_module.expansion_coefficients(m_xyz,  # target sphere position in nm\n",
    "                                                             v_r,  # target sphere radii in nm\n",
    "                                                             m_eps,  # e1 and e2 for each sphere\n",
    "                                                             f_int,  # interaction coefficient\n",
    "                                                             n_matrix,  # environment refractive index\n",
    "                                                             wl_lf, # computation wavelength\n",
    "                                                             alpha,beta,gamma,  # euler angles for the incident pw\n",
    "                                                             n_stop,  # maximum number for expansion coefficients\n",
    "                                                             qs_flag)  # quasi static approximation\n",
    "    v_amnbmn=out[0][:,0] # getting field expansion coefficients\n",
    "    v_dmncmn=out[0][:,1]\n",
    "\n",
    "    # local field\n",
    "    v_emn=py_gmm.gmm_py.gmm_f2py_module.emn(n_stop)[0] # normalization coeffs\n",
    "\n",
    "    # retrieving the scattered cloud\n",
    "    k_far = 2.0*np.pi*n_matrix/wl_lf\n",
    "    m_sc, scatot, error = py_gmm.gmm_py.gmm_f2py_module.efar(k_far,\n",
    "                                                             n_stop,\n",
    "                                                             0.0,3.6e2,360,\n",
    "                                                             180,\n",
    "                                                             0.0,\n",
    "                                                             v_amnbmn,\n",
    "                                                             m_xyz)\n",
    "    v_far.append(m_sc)"
   ]
  },
  {
   "cell_type": "markdown",
   "metadata": {},
   "source": [
    "# Plotting the results"
   ]
  },
  {
   "cell_type": "markdown",
   "metadata": {},
   "source": [
    "### Extinction cross section"
   ]
  },
  {
   "cell_type": "code",
   "execution_count": 8,
   "metadata": {
    "code_folding": [
     0
    ]
   },
   "outputs": [
    {
     "ename": "NameError",
     "evalue": "name 'v_cext' is not defined",
     "output_type": "error",
     "traceback": [
      "\u001b[0;31m----------------------------------------------------------------------\u001b[0m",
      "\u001b[0;31mNameError\u001b[0m                            Traceback (most recent call last)",
      "\u001b[0;32m<ipython-input-8-eeeb997c687b>\u001b[0m in \u001b[0;36m<module>\u001b[0;34m\u001b[0m\n\u001b[1;32m      3\u001b[0m \u001b[0mf_size_ticks\u001b[0m\u001b[0;34m=\u001b[0m\u001b[0;36m20\u001b[0m\u001b[0;34m;\u001b[0m\u001b[0;34m\u001b[0m\u001b[0;34m\u001b[0m\u001b[0m\n\u001b[1;32m      4\u001b[0m \u001b[0mplt\u001b[0m\u001b[0;34m.\u001b[0m\u001b[0mfigure\u001b[0m\u001b[0;34m(\u001b[0m\u001b[0;36m1\u001b[0m\u001b[0;34m,\u001b[0m\u001b[0mfigsize\u001b[0m\u001b[0;34m=\u001b[0m\u001b[0;34m(\u001b[0m\u001b[0;36m15\u001b[0m\u001b[0;34m,\u001b[0m\u001b[0;36m10\u001b[0m\u001b[0;34m)\u001b[0m\u001b[0;34m)\u001b[0m\u001b[0;34m;\u001b[0m\u001b[0;34m\u001b[0m\u001b[0;34m\u001b[0m\u001b[0m\n\u001b[0;32m----> 5\u001b[0;31m \u001b[0mplt\u001b[0m\u001b[0;34m.\u001b[0m\u001b[0mplot\u001b[0m\u001b[0;34m(\u001b[0m\u001b[0mv_wl\u001b[0m\u001b[0;34m,\u001b[0m\u001b[0mnp\u001b[0m\u001b[0;34m.\u001b[0m\u001b[0msum\u001b[0m\u001b[0;34m(\u001b[0m\u001b[0mv_cext\u001b[0m\u001b[0;34m,\u001b[0m\u001b[0maxis\u001b[0m\u001b[0;34m=\u001b[0m\u001b[0;36m1\u001b[0m\u001b[0;34m)\u001b[0m\u001b[0;34m,\u001b[0m\u001b[0;34m'k'\u001b[0m\u001b[0;34m,\u001b[0m\u001b[0mlinewidth\u001b[0m\u001b[0;34m=\u001b[0m\u001b[0;36m3.0\u001b[0m\u001b[0;34m)\u001b[0m\u001b[0;34m;\u001b[0m\u001b[0;34m\u001b[0m\u001b[0;34m\u001b[0m\u001b[0m\n\u001b[0m\u001b[1;32m      6\u001b[0m \u001b[0;34m\u001b[0m\u001b[0m\n\u001b[1;32m      7\u001b[0m \u001b[0;31m# plt title\u001b[0m\u001b[0;34m\u001b[0m\u001b[0;34m\u001b[0m\u001b[0;34m\u001b[0m\u001b[0m\n",
      "\u001b[0;31mNameError\u001b[0m: name 'v_cext' is not defined"
     ]
    },
    {
     "data": {
      "text/plain": [
       "<Figure size 1080x720 with 0 Axes>"
      ]
     },
     "metadata": {},
     "output_type": "display_data"
    }
   ],
   "source": [
    "# cross section plot\n",
    "f_size=25;\n",
    "f_size_ticks=20;\n",
    "plt.figure(1,figsize=(15,10));\n",
    "plt.plot(v_wl,np.sum(v_cext,axis=1),'k',linewidth=3.0);\n",
    "\n",
    "# plt title\n",
    "plt.title('Au dimer',fontsize=f_size)\n",
    "\n",
    "# axes labels\n",
    "plt.xlabel(r'wavelength (nm)', fontsize=f_size)\n",
    "plt.ylabel(r'Cext', fontsize=f_size)\n",
    "\n",
    "# ticks\n",
    "plt.xticks(fontsize=f_size_ticks)\n",
    "plt.yticks(fontsize=f_size_ticks)\n",
    "\n",
    "# legend\n",
    "plt.legend((r'Au Integral C$_{ext}$',''),frameon=False,fontsize=f_size-5)\n",
    "\n",
    "# layout\n",
    "plt.tight_layout()"
   ]
  },
  {
   "cell_type": "markdown",
   "metadata": {},
   "source": [
    "### Radiation scattering pattern"
   ]
  },
  {
   "cell_type": "code",
   "execution_count": null,
   "metadata": {
    "code_folding": []
   },
   "outputs": [],
   "source": [
    "# Plotly scattering plot\n",
    "\n",
    "# extracting data from output\n",
    "m_sc_out = v_far[1]\n",
    "v_theta = m_sc_out[:,0,0]\n",
    "v_phi = m_sc_out[0,:,1]\n",
    "\n",
    "theta = m_sc_out[:,:,1].real\n",
    "phi = m_sc_out[:,:,0].real\n",
    "r = m_sc_out[:,:,6].real\n",
    "\n",
    "x = r * np.sin(phi) * np.cos(theta)\n",
    "y = r * np.cos(phi)\n",
    "z = r * np.sin(phi) * np.sin(theta)\n",
    "\n",
    "\n",
    "surface = go.Surface(x=x, y=y, z=z, colorscale='Viridis',surfacecolor=r)\n",
    "data = [surface]\n",
    "layout = go.Layout(\n",
    "    title='Dimer scattering',\n",
    "    scene=dict(\n",
    "        xaxis=dict(\n",
    "            gridcolor='rgb(255, 255, 255)',\n",
    "            zerolinecolor='rgb(255, 255, 255)',\n",
    "            showbackground=True,\n",
    "            backgroundcolor='rgb(230, 230,230)'\n",
    "        ),\n",
    "        yaxis=dict(\n",
    "            gridcolor='rgb(255, 255, 255)',\n",
    "            zerolinecolor='rgb(255, 255, 255)',\n",
    "            showbackground=True,\n",
    "            backgroundcolor='rgb(230, 230,230)'\n",
    "        ),\n",
    "        zaxis=dict(\n",
    "            gridcolor='rgb(255, 255, 255)',\n",
    "            zerolinecolor='rgb(255, 255, 255)',\n",
    "            showbackground=True,\n",
    "            backgroundcolor='rgb(230, 230,230)'\n",
    "        )\n",
    "    )\n",
    ")\n",
    "fig = go.Figure(data=data, layout=layout)\n",
    "iplot(fig, filename='parametric-plot-viridis')"
   ]
  },
  {
   "cell_type": "code",
   "execution_count": null,
   "metadata": {},
   "outputs": [],
   "source": []
  }
 ],
 "metadata": {
  "anaconda-cloud": {},
  "kernelspec": {
   "display_name": "Python 3",
   "language": "python",
   "name": "python3"
  },
  "language_info": {
   "codemirror_mode": {
    "name": "ipython",
    "version": 3
   },
   "file_extension": ".py",
   "mimetype": "text/x-python",
   "name": "python",
   "nbconvert_exporter": "python",
   "pygments_lexer": "ipython3",
   "version": "3.7.3"
  }
 },
 "nbformat": 4,
 "nbformat_minor": 1
}
