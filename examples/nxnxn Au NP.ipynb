{
 "cells": [
  {
   "cell_type": "markdown",
   "metadata": {},
   "source": [
    " # nxnxn Au NP\n",
    " In this notebook we calculate the the optical spectra and scattering pattern of a symmetric Au dimer.The notebook is structured as follows:\n",
    " *  **Importing the libraries:** setup of useful settings and import of necessary libraries and databases.\n",
    " *  **Setting up the inputs:** definition of the inputs of the simulation.\n",
    " *  **Performing the calculations**: call to py_gmm to compute all the relevant far-field quantities.\n",
    " *  **Plotting the results**: plot of cross-section and radiation pattern\n",
    " \n",
    " In order to run the notebook Plotly library is needed. It can be installed with the following command (preferred):\n",
    " ```\n",
    " conda install -c https://conda.anaconda.org/plotly plotly\n",
    " ```\n",
    " or in alternative\n",
    " ```\n",
    " pip install plotly\n",
    "```\n",
    "Just one final thing: launch this notebook with the `--NotebookApp.iopub_data_rate_limit=1.0e10` option, or it will fail"
   ]
  },
  {
   "cell_type": "markdown",
   "metadata": {},
   "source": [
    "# Importing the libraries"
   ]
  },
  {
   "cell_type": "code",
   "execution_count": 1,
   "metadata": {
    "code_folding": [
     0
    ]
   },
   "outputs": [
    {
     "data": {
      "text/html": [
       "        <script type=\"text/javascript\">\n",
       "        window.PlotlyConfig = {MathJaxConfig: 'local'};\n",
       "        if (window.MathJax) {MathJax.Hub.Config({SVG: {font: \"STIX-Web\"}});}\n",
       "        if (typeof require !== 'undefined') {\n",
       "        require.undef(\"plotly\");\n",
       "        requirejs.config({\n",
       "            paths: {\n",
       "                'plotly': ['https://cdn.plot.ly/plotly-latest.min']\n",
       "            }\n",
       "        });\n",
       "        require(['plotly'], function(Plotly) {\n",
       "            window._Plotly = Plotly;\n",
       "        });\n",
       "        }\n",
       "        </script>\n",
       "        "
      ]
     },
     "metadata": {},
     "output_type": "display_data"
    },
    {
     "name": "stdout",
     "output_type": "stream",
     "text": [
      "3.8.1\n"
     ]
    }
   ],
   "source": [
    "#------Library loading------\n",
    "\n",
    "# numpy for matrix computations\n",
    "import numpy as np; import numpy.ma as ma\n",
    "\n",
    "# system libraries\n",
    "import sys\n",
    "\n",
    "# plotting libraries\n",
    "%matplotlib inline\n",
    "import matplotlib.pylab as plt\n",
    "from matplotlib.patches import Circle, Ellipse\n",
    "\n",
    "# Generalized Multiparticle Mie import\n",
    "sys.path.append('../')\n",
    "import py_gmm\n",
    "\n",
    "# plotly\n",
    "from plotly import __version__\n",
    "import plotly.graph_objs as go\n",
    "from plotly.offline import download_plotlyjs, init_notebook_mode, plot, iplot\n",
    "init_notebook_mode(connected=True)\n",
    "\n",
    "print(__version__) # requires version >= 1.9.0"
   ]
  },
  {
   "cell_type": "markdown",
   "metadata": {
    "code_folding": []
   },
   "source": [
    "# Setting up the inputs"
   ]
  },
  {
   "cell_type": "markdown",
   "metadata": {},
   "source": [
    "### Target inputs (optical constant database, sphere coordinates, composition and size)"
   ]
  },
  {
   "cell_type": "code",
   "execution_count": 2,
   "metadata": {
    "code_folding": [
     0
    ]
   },
   "outputs": [],
   "source": [
    "# building the optical constant database\n",
    "eps_db_out=py_gmm.mat.generate_eps_db('../epsilon/',ext='*.edb')\n",
    "eps_files,eps_names,eps_db=eps_db_out['eps_files'],eps_db_out['eps_names'],eps_db_out['eps_db']\n",
    "\n",
    "# Number of nanoparticles on the cube side:\n",
    "nx = 5;\n",
    "ny = 5; \n",
    "nz = 2;\n",
    "\n",
    "# Total numberof nanoparticles:\n",
    "N = nx*ny*nz;\n",
    "\n",
    "# dx,dy,dz:\n",
    "d = [30, 15, 15];\n",
    "\n",
    "# sphere radius (in nm)\n",
    "r = 7;\n",
    "v_r = r*np.ones(N)\n",
    "\n",
    "# Positions (in nm)\n",
    "m_xyz = np.array([0, 0, 0])\n",
    "\n",
    "for i in range(0,nx):\n",
    "    for j in range(ny):\n",
    "        for k in range(nz):\n",
    "            m_xyz=np.vstack((m_xyz,[0.+i*d[0],0.+j*d[1],0.+k*d[2]]))\n",
    "m_xyz = np.delete(m_xyz,0,0)\n",
    "\n",
    "# how many spheres in the target? We guess it from he length of the radius vector\n",
    "ns = len(v_r)\n",
    "\n",
    "# sphere composition, calling the names contained in \"eps_names\", just populated above\n",
    "target_comp= np.array(ns*['eAuJCSTDf']) # vector containing the optical constants names\n",
    "\n",
    "# colours for the plots:\n",
    "v_col = ns*['#FFD700']\n",
    "\n",
    "# refractive index of the environment\n",
    "n_matrix = 1.33  # water"
   ]
  },
  {
   "cell_type": "markdown",
   "metadata": {},
   "source": [
    "### Plane wave incident field"
   ]
  },
  {
   "cell_type": "code",
   "execution_count": 3,
   "metadata": {
    "code_folding": [
     0
    ]
   },
   "outputs": [],
   "source": [
    "# Euler angles: (alpha,beta,gamma)=(0,0,0) means a z-directed, x-polarized plane wave\n",
    "alpha = 0.0   # azimuth\n",
    "beta = 0.0  # polar\n",
    "gamma = 0.0  # polarization\n",
    "\n",
    "# Wavelengths for the specrum computation\n",
    "wl_min = 300\n",
    "wl_max = 800\n",
    "n_wl = 250\n",
    "v_wl = np.linspace(wl_min,wl_max,n_wl)\n",
    "\n",
    "# Wavelength for the far field computation\n",
    "v_wl_lf = [530.0,650] # resonance wavelengths"
   ]
  },
  {
   "cell_type": "markdown",
   "metadata": {},
   "source": [
    "### Additional inputs for the simulation"
   ]
  },
  {
   "cell_type": "code",
   "execution_count": 4,
   "metadata": {
    "code_folding": [
     0
    ]
   },
   "outputs": [],
   "source": [
    "n_stop=3 # maximum multipolar expansion order\n",
    "f_int=0.0; # interaction cutoff (normally set to zero to have full interactions)\n",
    "lf_ratio=300; # plot sphere local field contribution up to a distance equal to d=lf_ratio*r_sphere\n",
    "qs_flag='no' # retarded simulation"
   ]
  },
  {
   "cell_type": "markdown",
   "metadata": {},
   "source": [
    "### 2D Target plot"
   ]
  },
  {
   "cell_type": "code",
   "execution_count": 5,
   "metadata": {
    "code_folding": [
     0
    ]
   },
   "outputs": [
    {
     "data": {
      "image/png": "[encoded data removed]",
      "text/plain": [
       "<Figure size 720x720 with 1 Axes>"
      ]
     },
     "metadata": {
      "needs_background": "light"
     },
     "output_type": "display_data"
    }
   ],
   "source": [
    "# target plot\n",
    "fig = plt.figure(num=1,figsize=(10,10)) # setting the figure size\n",
    "ax = fig.add_subplot(1, 1, 1, aspect='equal')  # creating the plotting axis\n",
    "\n",
    "# plot bounds and eliminating x and y ticks\n",
    "plt.xlim(-(m_xyz[:,0].min()+1.1*v_r.max()),(m_xyz[:,0].max()+1.1*v_r.max()))\n",
    "plt.ylim(-(m_xyz[:,1].min()+1.1*v_r.max()),(m_xyz[:,1].max()+1.1*v_r.max()))\n",
    "plt.xlabel('x [nm]')\n",
    "plt.ylabel('y [nm]')\n",
    "\n",
    "\n",
    "# plotting the target\n",
    "for c,r,col in zip(m_xyz,v_r,v_col):\n",
    "    c0=c[0];c1=c[1];\n",
    "    ax.add_patch(Circle((c0,c1),r,color=col))"
   ]
  },
  {
   "cell_type": "markdown",
   "metadata": {},
   "source": [
    "### 3D Target plot"
   ]
  },
  {
   "cell_type": "code",
   "execution_count": 6,
   "metadata": {
    "scrolled": true
   },
   "outputs": [
    {
     "data": {
      "application/vnd.plotly.v1+json": {
       "config": {
        "linkText": "Export to plot.ly",
        "plotlyServerURL": "https://plot.ly",
        "responsive": true,
        "showLink": false
       },
       "data": [
        {
         "colorscale": [
          [
           0,
           "#FFD700"
          ],
          [
           1,
           "#FFD700"
          ]
         ],
         "name": "nanoparticle 0",
         "showscale": false,
         "type": "surface",
         "uid": "a2147c8d-54f3-4f42-a666-ad3b32ddb32b",
         "x": [
          [
           0,
           6.06217782649107,
           6.062177826491071,
           8.572527594031472e-16
          ],
          [
           0,
           -3.031088913245534,
           -3.0310889132455343,
           -4.2862637970157346e-16
          ],
          [
           0,
           -3.031088913245538,
           -3.0310889132455383,
           -4.2862637970157396e-16
          ],
          [
           0,
           6.06217782649107,
           6.062177826491071,
           8.572527594031472e-16
          ]
         ],
         "y": [
          [
           0,
           0,
           0,
           0
          ],
          [
           0,
           5.25,
           5.250000000000001,
           7.424026671074348e-16
          ],
          [
           0,
           -5.249999999999997,
           -5.249999999999998,
           -7.424026671074346e-16
          ],
          [
           0,
           -1.4848053342148694e-15,
           -1.4848053342148696e-15,
           -2.0996636957266007e-31
          ]
         ],
         "z": [
          [
           7,
           3.500000000000001,
           -3.4999999999999982,
           -7
          ],
          [
           7,
           3.500000000000001,
           -3.4999999999999982,
           -7
          ],
          [
           7,
           3.500000000000001,
           -3.4999999999999982,
           -7
          ],
          [
           7,
           3.500000000000001,
           -3.4999999999999982,
           -7
          ]
         ]
        },
        {
         "colorscale": [
          [
           0,
           "#FFD700"
          ],
          [
           1,
           "#FFD700"
          ]
         ],
         "name": "nanoparticle 1",
         "showscale": false,
         "type": "surface",
         "uid": "c1fab39f-4eae-4bc6-88b4-5526f5591a60",
         "x": [
          [
           0,
           6.06217782649107,
           6.062177826491071,
           8.572527594031472e-16
          ],
          [
           0,
           -3.031088913245534,
           -3.0310889132455343,
           -4.2862637970157346e-16
          ],
          [
           0,
           -3.031088913245538,
           -3.0310889132455383,
           -4.2862637970157396e-16
          ],
          [
           0,
           6.06217782649107,
           6.062177826491071,
           8.572527594031472e-16
          ]
         ],
         "y": [
          [
           0,
           0,
           0,
           0
          ],
          [
           0,
           5.25,
           5.250000000000001,
           7.424026671074348e-16
          ],
          [
           0,
           -5.249999999999997,
           -5.249999999999998,
           -7.424026671074346e-16
          ],
          [
           0,
           -1.4848053342148694e-15,
           -1.4848053342148696e-15,
           -2.0996636957266007e-31
          ]
         ],
         "z": [
          [
           22,
           18.5,
           11.500000000000002,
           8
          ],
          [
           22,
           18.5,
           11.500000000000002,
           8
          ],
          [
           22,
           18.5,
           11.500000000000002,
           8
          ],
          [
           22,
           18.5,
           11.500000000000002,
           8
          ]
         ]
        },
        {
         "colorscale": [
          [
           0,
           "#FFD700"
          ],
          [
           1,
           "#FFD700"
          ]
         ],
         "name": "nanoparticle 2",
         "showscale": false,
         "type": "surface",
         "uid": "28d87154-08dd-4da8-91ce-a3f7e575ccad",
         "x": [
          [
           0,
           6.06217782649107,
           6.062177826491071,
           8.572527594031472e-16
          ],
          [
           0,
           -3.031088913245534,
           -3.0310889132455343,
           -4.2862637970157346e-16
          ],
          [
           0,
           -3.031088913245538,
           -3.0310889132455383,
           -4.2862637970157396e-16
          ],
          [
           0,
           6.06217782649107,
           6.062177826491071,
           8.572527594031472e-16
          ]
         ],
         "y": [
          [
           15,
           15,
           15,
           15
          ],
          [
           15,
           20.25,
           20.25,
           15
          ],
          [
           15,
           9.750000000000004,
           9.750000000000002,
           15
          ],
          [
           15,
           14.999999999999998,
           14.999999999999998,
           15
          ]
         ],
         "z": [
          [
           7,
           3.500000000000001,
           -3.4999999999999982,
           -7
          ],
          [
           7,
           3.500000000000001,
           -3.4999999999999982,
           -7
          ],
          [
           7,
           3.500000000000001,
           -3.4999999999999982,
           -7
          ],
          [
           7,
           3.500000000000001,
           -3.4999999999999982,
           -7
          ]
         ]
        },
        {
         "colorscale": [
          [
           0,
           "#FFD700"
          ],
          [
           1,
           "#FFD700"
          ]
         ],
         "name": "nanoparticle 3",
         "showscale": false,
         "type": "surface",
         "uid": "57c37629-dfaf-4a08-ba4a-4a6867be2597",
         "x": [
          [
           0,
           6.06217782649107,
           6.062177826491071,
           8.572527594031472e-16
          ],
          [
           0,
           -3.031088913245534,
           -3.0310889132455343,
           -4.2862637970157346e-16
          ],
          [
           0,
           -3.031088913245538,
           -3.0310889132455383,
           -4.2862637970157396e-16
          ],
          [
           0,
           6.06217782649107,
           6.062177826491071,
           8.572527594031472e-16
          ]
         ],
         "y": [
          [
           15,
           15,
           15,
           15
          ],
          [
           15,
           20.25,
           20.25,
           15
          ],
          [
           15,
           9.750000000000004,
           9.750000000000002,
           15
          ],
          [
           15,
           14.999999999999998,
           14.999999999999998,
           15
          ]
         ],
         "z": [
          [
           22,
           18.5,
           11.500000000000002,
           8
          ],
          [
           22,
           18.5,
           11.500000000000002,
           8
          ],
          [
           22,
           18.5,
           11.500000000000002,
           8
          ],
          [
           22,
           18.5,
           11.500000000000002,
           8
          ]
         ]
        },
        {
         "colorscale": [
          [
           0,
           "#FFD700"
          ],
          [
           1,
           "#FFD700"
          ]
         ],
         "name": "nanoparticle 4",
         "showscale": false,
         "type": "surface",
         "uid": "af051d2d-2c2f-4326-af2b-e2db3d7b5893",
         "x": [
          [
           0,
           6.06217782649107,
           6.062177826491071,
           8.572527594031472e-16
          ],
          [
           0,
           -3.031088913245534,
           -3.0310889132455343,
           -4.2862637970157346e-16
          ],
          [
           0,
           -3.031088913245538,
           -3.0310889132455383,
           -4.2862637970157396e-16
          ],
          [
           0,
           6.06217782649107,
           6.062177826491071,
           8.572527594031472e-16
          ]
         ],
         "y": [
          [
           30,
           30,
           30,
           30
          ],
          [
           30,
           35.25,
           35.25,
           30
          ],
          [
           30,
           24.750000000000004,
           24.75,
           30
          ],
          [
           30,
           30,
           30,
           30
          ]
         ],
         "z": [
          [
           7,
           3.500000000000001,
           -3.4999999999999982,
           -7
          ],
          [
           7,
           3.500000000000001,
           -3.4999999999999982,
           -7
          ],
          [
           7,
           3.500000000000001,
           -3.4999999999999982,
           -7
          ],
          [
           7,
           3.500000000000001,
           -3.4999999999999982,
           -7
          ]
         ]
        },
        {
         "colorscale": [
          [
           0,
           "#FFD700"
          ],
          [
           1,
           "#FFD700"
          ]
         ],
         "name": "nanoparticle 5",
         "showscale": false,
         "type": "surface",
         "uid": "3fc30718-a1d7-470c-8e56-e2b80f4b56da",
         "x": [
          [
           0,
           6.06217782649107,
           6.062177826491071,
           8.572527594031472e-16
          ],
          [
           0,
           -3.031088913245534,
           -3.0310889132455343,
           -4.2862637970157346e-16
          ],
          [
           0,
           -3.031088913245538,
           -3.0310889132455383,
           -4.2862637970157396e-16
          ],
          [
           0,
           6.06217782649107,
           6.062177826491071,
           8.572527594031472e-16
          ]
         ],
         "y": [
          [
           30,
           30,
           30,
           30
          ],
          [
           30,
           35.25,
           35.25,
           30
          ],
          [
           30,
           24.750000000000004,
           24.75,
           30
          ],
          [
           30,
           30,
           30,
           30
          ]
         ],
         "z": [
          [
           22,
           18.5,
           11.500000000000002,
           8
          ],
          [
           22,
           18.5,
           11.500000000000002,
           8
          ],
          [
           22,
           18.5,
           11.500000000000002,
           8
          ],
          [
           22,
           18.5,
           11.500000000000002,
           8
          ]
         ]
        },
        {
         "colorscale": [
          [
           0,
           "#FFD700"
          ],
          [
           1,
           "#FFD700"
          ]
         ],
         "name": "nanoparticle 6",
         "showscale": false,
         "type": "surface",
         "uid": "c268cefb-5af9-4c02-86c8-ca507a5f170c",
         "x": [
          [
           0,
           6.06217782649107,
           6.062177826491071,
           8.572527594031472e-16
          ],
          [
           0,
           -3.031088913245534,
           -3.0310889132455343,
           -4.2862637970157346e-16
          ],
          [
           0,
           -3.031088913245538,
           -3.0310889132455383,
           -4.2862637970157396e-16
          ],
          [
           0,
           6.06217782649107,
           6.062177826491071,
           8.572527594031472e-16
          ]
         ],
         "y": [
          [
           45,
           45,
           45,
           45
          ],
          [
           45,
           50.25,
           50.25,
           45
          ],
          [
           45,
           39.75,
           39.75,
           45
          ],
          [
           45,
           45,
           45,
           45
          ]
         ],
         "z": [
          [
           7,
           3.500000000000001,
           -3.4999999999999982,
           -7
          ],
          [
           7,
           3.500000000000001,
           -3.4999999999999982,
           -7
          ],
          [
           7,
           3.500000000000001,
           -3.4999999999999982,
           -7
          ],
          [
           7,
           3.500000000000001,
           -3.4999999999999982,
           -7
          ]
         ]
        },
        {
         "colorscale": [
          [
           0,
           "#FFD700"
          ],
          [
           1,
           "#FFD700"
          ]
         ],
         "name": "nanoparticle 7",
         "showscale": false,
         "type": "surface",
         "uid": "c8990cce-6e3d-44fc-bd44-eb9fec019798",
         "x": [
          [
           0,
           6.06217782649107,
           6.062177826491071,
           8.572527594031472e-16
          ],
          [
           0,
           -3.031088913245534,
           -3.0310889132455343,
           -4.2862637970157346e-16
          ],
          [
           0,
           -3.031088913245538,
           -3.0310889132455383,
           -4.2862637970157396e-16
          ],
          [
           0,
           6.06217782649107,
           6.062177826491071,
           8.572527594031472e-16
          ]
         ],
         "y": [
          [
           45,
           45,
           45,
           45
          ],
          [
           45,
           50.25,
           50.25,
           45
          ],
          [
           45,
           39.75,
           39.75,
           45
          ],
          [
           45,
           45,
           45,
           45
          ]
         ],
         "z": [
          [
           22,
           18.5,
           11.500000000000002,
           8
          ],
          [
           22,
           18.5,
           11.500000000000002,
           8
          ],
          [
           22,
           18.5,
           11.500000000000002,
           8
          ],
          [
           22,
           18.5,
           11.500000000000002,
           8
          ]
         ]
        },
        {
         "colorscale": [
          [
           0,
           "#FFD700"
          ],
          [
           1,
           "#FFD700"
          ]
         ],
         "name": "nanoparticle 8",
         "showscale": false,
         "type": "surface",
         "uid": "6179411f-2fa1-4db5-a854-450d41fc650a",
         "x": [
          [
           0,
           6.06217782649107,
           6.062177826491071,
           8.572527594031472e-16
          ],
          [
           0,
           -3.031088913245534,
           -3.0310889132455343,
           -4.2862637970157346e-16
          ],
          [
           0,
           -3.031088913245538,
           -3.0310889132455383,
           -4.2862637970157396e-16
          ],
          [
           0,
           6.06217782649107,
           6.062177826491071,
           8.572527594031472e-16
          ]
         ],
         "y": [
          [
           60,
           60,
           60,
           60
          ],
          [
           60,
           65.25,
           65.25,
           60
          ],
          [
           60,
           54.75,
           54.75,
           60
          ],
          [
           60,
           60,
           60,
           60
          ]
         ],
         "z": [
          [
           7,
           3.500000000000001,
           -3.4999999999999982,
           -7
          ],
          [
           7,
           3.500000000000001,
           -3.4999999999999982,
           -7
          ],
          [
           7,
           3.500000000000001,
           -3.4999999999999982,
           -7
          ],
          [
           7,
           3.500000000000001,
           -3.4999999999999982,
           -7
          ]
         ]
        },
        {
         "colorscale": [
          [
           0,
           "#FFD700"
          ],
          [
           1,
           "#FFD700"
          ]
         ],
         "name": "nanoparticle 9",
         "showscale": false,
         "type": "surface",
         "uid": "9a3effc5-69c5-420e-a6ea-fa02b2631bc4",
         "x": [
          [
           0,
           6.06217782649107,
           6.062177826491071,
           8.572527594031472e-16
          ],
          [
           0,
           -3.031088913245534,
           -3.0310889132455343,
           -4.2862637970157346e-16
          ],
          [
           0,
           -3.031088913245538,
           -3.0310889132455383,
           -4.2862637970157396e-16
          ],
          [
           0,
           6.06217782649107,
           6.062177826491071,
           8.572527594031472e-16
          ]
         ],
         "y": [
          [
           60,
           60,
           60,
           60
          ],
          [
           60,
           65.25,
           65.25,
           60
          ],
          [
           60,
           54.75,
           54.75,
           60
          ],
          [
           60,
           60,
           60,
           60
          ]
         ],
         "z": [
          [
           22,
           18.5,
           11.500000000000002,
           8
          ],
          [
           22,
           18.5,
           11.500000000000002,
           8
          ],
          [
           22,
           18.5,
           11.500000000000002,
           8
          ],
          [
           22,
           18.5,
           11.500000000000002,
           8
          ]
         ]
        },
        {
         "colorscale": [
          [
           0,
           "#FFD700"
          ],
          [
           1,
           "#FFD700"
          ]
         ],
         "name": "nanoparticle 10",
         "showscale": false,
         "type": "surface",
         "uid": "bae7b9c0-34b7-431e-bc1f-5bb66add7855",
         "x": [
          [
           30,
           36.06217782649107,
           36.06217782649107,
           30
          ],
          [
           30,
           26.968911086754467,
           26.968911086754467,
           30
          ],
          [
           30,
           26.968911086754463,
           26.96891108675446,
           30
          ],
          [
           30,
           36.06217782649107,
           36.06217782649107,
           30
          ]
         ],
         "y": [
          [
           0,
           0,
           0,
           0
          ],
          [
           0,
           5.25,
           5.250000000000001,
           7.424026671074348e-16
          ],
          [
           0,
           -5.249999999999997,
           -5.249999999999998,
           -7.424026671074346e-16
          ],
          [
           0,
           -1.4848053342148694e-15,
           -1.4848053342148696e-15,
           -2.0996636957266007e-31
          ]
         ],
         "z": [
          [
           7,
           3.500000000000001,
           -3.4999999999999982,
           -7
          ],
          [
           7,
           3.500000000000001,
           -3.4999999999999982,
           -7
          ],
          [
           7,
           3.500000000000001,
           -3.4999999999999982,
           -7
          ],
          [
           7,
           3.500000000000001,
           -3.4999999999999982,
           -7
          ]
         ]
        },
        {
         "colorscale": [
          [
           0,
           "#FFD700"
          ],
          [
           1,
           "#FFD700"
          ]
         ],
         "name": "nanoparticle 11",
         "showscale": false,
         "type": "surface",
         "uid": "ffc76741-dd3b-4bed-833a-452dc93fe551",
         "x": [
          [
           30,
           36.06217782649107,
           36.06217782649107,
           30
          ],
          [
           30,
           26.968911086754467,
           26.968911086754467,
           30
          ],
          [
           30,
           26.968911086754463,
           26.96891108675446,
           30
          ],
          [
           30,
           36.06217782649107,
           36.06217782649107,
           30
          ]
         ],
         "y": [
          [
           0,
           0,
           0,
           0
          ],
          [
           0,
           5.25,
           5.250000000000001,
           7.424026671074348e-16
          ],
          [
           0,
           -5.249999999999997,
           -5.249999999999998,
           -7.424026671074346e-16
          ],
          [
           0,
           -1.4848053342148694e-15,
           -1.4848053342148696e-15,
           -2.0996636957266007e-31
          ]
         ],
         "z": [
          [
           22,
           18.5,
           11.500000000000002,
           8
          ],
          [
           22,
           18.5,
           11.500000000000002,
           8
          ],
          [
           22,
           18.5,
           11.500000000000002,
           8
          ],
          [
           22,
           18.5,
           11.500000000000002,
           8
          ]
         ]
        },
        {
         "colorscale": [
          [
           0,
           "#FFD700"
          ],
          [
           1,
           "#FFD700"
          ]
         ],
         "name": "nanoparticle 12",
         "showscale": false,
         "type": "surface",
         "uid": "f6af6489-684e-439f-af7c-1882a4d3800f",
         "x": [
          [
           30,
           36.06217782649107,
           36.06217782649107,
           30
          ],
          [
           30,
           26.968911086754467,
           26.968911086754467,
           30
          ],
          [
           30,
           26.968911086754463,
           26.96891108675446,
           30
          ],
          [
           30,
           36.06217782649107,
           36.06217782649107,
           30
          ]
         ],
         "y": [
          [
           15,
           15,
           15,
           15
          ],
          [
           15,
           20.25,
           20.25,
           15
          ],
          [
           15,
           9.750000000000004,
           9.750000000000002,
           15
          ],
          [
           15,
           14.999999999999998,
           14.999999999999998,
           15
          ]
         ],
         "z": [
          [
           7,
           3.500000000000001,
           -3.4999999999999982,
           -7
          ],
          [
           7,
           3.500000000000001,
           -3.4999999999999982,
           -7
          ],
          [
           7,
           3.500000000000001,
           -3.4999999999999982,
           -7
          ],
          [
           7,
           3.500000000000001,
           -3.4999999999999982,
           -7
          ]
         ]
        },
        {
         "colorscale": [
          [
           0,
           "#FFD700"
          ],
          [
           1,
           "#FFD700"
          ]
         ],
         "name": "nanoparticle 13",
         "showscale": false,
         "type": "surface",
         "uid": "14350412-b9d8-4d2c-97de-eb801a02a904",
         "x": [
          [
           30,
           36.06217782649107,
           36.06217782649107,
           30
          ],
          [
           30,
           26.968911086754467,
           26.968911086754467,
           30
          ],
          [
           30,
           26.968911086754463,
           26.96891108675446,
           30
          ],
          [
           30,
           36.06217782649107,
           36.06217782649107,
           30
          ]
         ],
         "y": [
          [
           15,
           15,
           15,
           15
          ],
          [
           15,
           20.25,
           20.25,
           15
          ],
          [
           15,
           9.750000000000004,
           9.750000000000002,
           15
          ],
          [
           15,
           14.999999999999998,
           14.999999999999998,
           15
          ]
         ],
         "z": [
          [
           22,
           18.5,
           11.500000000000002,
           8
          ],
          [
           22,
           18.5,
           11.500000000000002,
           8
          ],
          [
           22,
           18.5,
           11.500000000000002,
           8
          ],
          [
           22,
           18.5,
           11.500000000000002,
           8
          ]
         ]
        },
        {
         "colorscale": [
          [
           0,
           "#FFD700"
          ],
          [
           1,
           "#FFD700"
          ]
         ],
         "name": "nanoparticle 14",
         "showscale": false,
         "type": "surface",
         "uid": "bf333ec9-f5cf-414b-b7b3-5b8e20c47c0f",
         "x": [
          [
           30,
           36.06217782649107,
           36.06217782649107,
           30
          ],
          [
           30,
           26.968911086754467,
           26.968911086754467,
           30
          ],
          [
           30,
           26.968911086754463,
           26.96891108675446,
           30
          ],
          [
           30,
           36.06217782649107,
           36.06217782649107,
           30
          ]
         ],
         "y": [
          [
           30,
           30,
           30,
           30
          ],
          [
           30,
           35.25,
           35.25,
           30
          ],
          [
           30,
           24.750000000000004,
           24.75,
           30
          ],
          [
           30,
           30,
           30,
           30
          ]
         ],
         "z": [
          [
           7,
           3.500000000000001,
           -3.4999999999999982,
           -7
          ],
          [
           7,
           3.500000000000001,
           -3.4999999999999982,
           -7
          ],
          [
           7,
           3.500000000000001,
           -3.4999999999999982,
           -7
          ],
          [
           7,
           3.500000000000001,
           -3.4999999999999982,
           -7
          ]
         ]
        },
        {
         "colorscale": [
          [
           0,
           "#FFD700"
          ],
          [
           1,
           "#FFD700"
          ]
         ],
         "name": "nanoparticle 15",
         "showscale": false,
         "type": "surface",
         "uid": "f41833d3-41ed-44c6-892a-ac09d29bf8a5",
         "x": [
          [
           30,
           36.06217782649107,
           36.06217782649107,
           30
          ],
          [
           30,
           26.968911086754467,
           26.968911086754467,
           30
          ],
          [
           30,
           26.968911086754463,
           26.96891108675446,
           30
          ],
          [
           30,
           36.06217782649107,
           36.06217782649107,
           30
          ]
         ],
         "y": [
          [
           30,
           30,
           30,
           30
          ],
          [
           30,
           35.25,
           35.25,
           30
          ],
          [
           30,
           24.750000000000004,
           24.75,
           30
          ],
          [
           30,
           30,
           30,
           30
          ]
         ],
         "z": [
          [
           22,
           18.5,
           11.500000000000002,
           8
          ],
          [
           22,
           18.5,
           11.500000000000002,
           8
          ],
          [
           22,
           18.5,
           11.500000000000002,
           8
          ],
          [
           22,
           18.5,
           11.500000000000002,
           8
          ]
         ]
        },
        {
         "colorscale": [
          [
           0,
           "#FFD700"
          ],
          [
           1,
           "#FFD700"
          ]
         ],
         "name": "nanoparticle 16",
         "showscale": false,
         "type": "surface",
         "uid": "1cc2855b-ede3-4b9d-b0fb-42f86cf56d07",
         "x": [
          [
           30,
           36.06217782649107,
           36.06217782649107,
           30
          ],
          [
           30,
           26.968911086754467,
           26.968911086754467,
           30
          ],
          [
           30,
           26.968911086754463,
           26.96891108675446,
           30
          ],
          [
           30,
           36.06217782649107,
           36.06217782649107,
           30
          ]
         ],
         "y": [
          [
           45,
           45,
           45,
           45
          ],
          [
           45,
           50.25,
           50.25,
           45
          ],
          [
           45,
           39.75,
           39.75,
           45
          ],
          [
           45,
           45,
           45,
           45
          ]
         ],
         "z": [
          [
           7,
           3.500000000000001,
           -3.4999999999999982,
           -7
          ],
          [
           7,
           3.500000000000001,
           -3.4999999999999982,
           -7
          ],
          [
           7,
           3.500000000000001,
           -3.4999999999999982,
           -7
          ],
          [
           7,
           3.500000000000001,
           -3.4999999999999982,
           -7
          ]
         ]
        },
        {
         "colorscale": [
          [
           0,
           "#FFD700"
          ],
          [
           1,
           "#FFD700"
          ]
         ],
         "name": "nanoparticle 17",
         "showscale": false,
         "type": "surface",
         "uid": "0ee7eced-cbe4-47ff-8be5-c9d524fe0298",
         "x": [
          [
           30,
           36.06217782649107,
           36.06217782649107,
           30
          ],
          [
           30,
           26.968911086754467,
           26.968911086754467,
           30
          ],
          [
           30,
           26.968911086754463,
           26.96891108675446,
           30
          ],
          [
           30,
           36.06217782649107,
           36.06217782649107,
           30
          ]
         ],
         "y": [
          [
           45,
           45,
           45,
           45
          ],
          [
           45,
           50.25,
           50.25,
           45
          ],
          [
           45,
           39.75,
           39.75,
           45
          ],
          [
           45,
           45,
           45,
           45
          ]
         ],
         "z": [
          [
           22,
           18.5,
           11.500000000000002,
           8
          ],
          [
           22,
           18.5,
           11.500000000000002,
           8
          ],
          [
           22,
           18.5,
           11.500000000000002,
           8
          ],
          [
           22,
           18.5,
           11.500000000000002,
           8
          ]
         ]
        },
        {
         "colorscale": [
          [
           0,
           "#FFD700"
          ],
          [
           1,
           "#FFD700"
          ]
         ],
         "name": "nanoparticle 18",
         "showscale": false,
         "type": "surface",
         "uid": "26803884-d1b3-4af6-9b55-daf99f351610",
         "x": [
          [
           30,
           36.06217782649107,
           36.06217782649107,
           30
          ],
          [
           30,
           26.968911086754467,
           26.968911086754467,
           30
          ],
          [
           30,
           26.968911086754463,
           26.96891108675446,
           30
          ],
          [
           30,
           36.06217782649107,
           36.06217782649107,
           30
          ]
         ],
         "y": [
          [
           60,
           60,
           60,
           60
          ],
          [
           60,
           65.25,
           65.25,
           60
          ],
          [
           60,
           54.75,
           54.75,
           60
          ],
          [
           60,
           60,
           60,
           60
          ]
         ],
         "z": [
          [
           7,
           3.500000000000001,
           -3.4999999999999982,
           -7
          ],
          [
           7,
           3.500000000000001,
           -3.4999999999999982,
           -7
          ],
          [
           7,
           3.500000000000001,
           -3.4999999999999982,
           -7
          ],
          [
           7,
           3.500000000000001,
           -3.4999999999999982,
           -7
          ]
         ]
        },
        {
         "colorscale": [
          [
           0,
           "#FFD700"
          ],
          [
           1,
           "#FFD700"
          ]
         ],
         "name": "nanoparticle 19",
         "showscale": false,
         "type": "surface",
         "uid": "0c6837e7-cc04-48ce-a4b2-9e966caf3b3c",
         "x": [
          [
           30,
           36.06217782649107,
           36.06217782649107,
           30
          ],
          [
           30,
           26.968911086754467,
           26.968911086754467,
           30
          ],
          [
           30,
           26.968911086754463,
           26.96891108675446,
           30
          ],
          [
           30,
           36.06217782649107,
           36.06217782649107,
           30
          ]
         ],
         "y": [
          [
           60,
           60,
           60,
           60
          ],
          [
           60,
           65.25,
           65.25,
           60
          ],
          [
           60,
           54.75,
           54.75,
           60
          ],
          [
           60,
           60,
           60,
           60
          ]
         ],
         "z": [
          [
           22,
           18.5,
           11.500000000000002,
           8
          ],
          [
           22,
           18.5,
           11.500000000000002,
           8
          ],
          [
           22,
           18.5,
           11.500000000000002,
           8
          ],
          [
           22,
           18.5,
           11.500000000000002,
           8
          ]
         ]
        },
        {
         "colorscale": [
          [
           0,
           "#FFD700"
          ],
          [
           1,
           "#FFD700"
          ]
         ],
         "name": "nanoparticle 20",
         "showscale": false,
         "type": "surface",
         "uid": "a57fe900-4db6-4c03-884c-e3a2c747590b",
         "x": [
          [
           60,
           66.06217782649107,
           66.06217782649107,
           60
          ],
          [
           60,
           56.96891108675447,
           56.96891108675447,
           60
          ],
          [
           60,
           56.96891108675446,
           56.96891108675446,
           60
          ],
          [
           60,
           66.06217782649107,
           66.06217782649107,
           60
          ]
         ],
         "y": [
          [
           0,
           0,
           0,
           0
          ],
          [
           0,
           5.25,
           5.250000000000001,
           7.424026671074348e-16
          ],
          [
           0,
           -5.249999999999997,
           -5.249999999999998,
           -7.424026671074346e-16
          ],
          [
           0,
           -1.4848053342148694e-15,
           -1.4848053342148696e-15,
           -2.0996636957266007e-31
          ]
         ],
         "z": [
          [
           7,
           3.500000000000001,
           -3.4999999999999982,
           -7
          ],
          [
           7,
           3.500000000000001,
           -3.4999999999999982,
           -7
          ],
          [
           7,
           3.500000000000001,
           -3.4999999999999982,
           -7
          ],
          [
           7,
           3.500000000000001,
           -3.4999999999999982,
           -7
          ]
         ]
        },
        {
         "colorscale": [
          [
           0,
           "#FFD700"
          ],
          [
           1,
           "#FFD700"
          ]
         ],
         "name": "nanoparticle 21",
         "showscale": false,
         "type": "surface",
         "uid": "d964434d-987f-4d34-b806-fa649fbbe8a1",
         "x": [
          [
           60,
           66.06217782649107,
           66.06217782649107,
           60
          ],
          [
           60,
           56.96891108675447,
           56.96891108675447,
           60
          ],
          [
           60,
           56.96891108675446,
           56.96891108675446,
           60
          ],
          [
           60,
           66.06217782649107,
           66.06217782649107,
           60
          ]
         ],
         "y": [
          [
           0,
           0,
           0,
           0
          ],
          [
           0,
           5.25,
           5.250000000000001,
           7.424026671074348e-16
          ],
          [
           0,
           -5.249999999999997,
           -5.249999999999998,
           -7.424026671074346e-16
          ],
          [
           0,
           -1.4848053342148694e-15,
           -1.4848053342148696e-15,
           -2.0996636957266007e-31
          ]
         ],
         "z": [
          [
           22,
           18.5,
           11.500000000000002,
           8
          ],
          [
           22,
           18.5,
           11.500000000000002,
           8
          ],
          [
           22,
           18.5,
           11.500000000000002,
           8
          ],
          [
           22,
           18.5,
           11.500000000000002,
           8
          ]
         ]
        },
        {
         "colorscale": [
          [
           0,
           "#FFD700"
          ],
          [
           1,
           "#FFD700"
          ]
         ],
         "name": "nanoparticle 22",
         "showscale": false,
         "type": "surface",
         "uid": "80f1ea04-be0d-4ac4-9351-10d03ecef2e9",
         "x": [
          [
           60,
           66.06217782649107,
           66.06217782649107,
           60
          ],
          [
           60,
           56.96891108675447,
           56.96891108675447,
           60
          ],
          [
           60,
           56.96891108675446,
           56.96891108675446,
           60
          ],
          [
           60,
           66.06217782649107,
           66.06217782649107,
           60
          ]
         ],
         "y": [
          [
           15,
           15,
           15,
           15
          ],
          [
           15,
           20.25,
           20.25,
           15
          ],
          [
           15,
           9.750000000000004,
           9.750000000000002,
           15
          ],
          [
           15,
           14.999999999999998,
           14.999999999999998,
           15
          ]
         ],
         "z": [
          [
           7,
           3.500000000000001,
           -3.4999999999999982,
           -7
          ],
          [
           7,
           3.500000000000001,
           -3.4999999999999982,
           -7
          ],
          [
           7,
           3.500000000000001,
           -3.4999999999999982,
           -7
          ],
          [
           7,
           3.500000000000001,
           -3.4999999999999982,
           -7
          ]
         ]
        },
        {
         "colorscale": [
          [
           0,
           "#FFD700"
          ],
          [
           1,
           "#FFD700"
          ]
         ],
         "name": "nanoparticle 23",
         "showscale": false,
         "type": "surface",
         "uid": "4edddc34-8276-46b8-9183-21c830f1c3d2",
         "x": [
          [
           60,
           66.06217782649107,
           66.06217782649107,
           60
          ],
          [
           60,
           56.96891108675447,
           56.96891108675447,
           60
          ],
          [
           60,
           56.96891108675446,
           56.96891108675446,
           60
          ],
          [
           60,
           66.06217782649107,
           66.06217782649107,
           60
          ]
         ],
         "y": [
          [
           15,
           15,
           15,
           15
          ],
          [
           15,
           20.25,
           20.25,
           15
          ],
          [
           15,
           9.750000000000004,
           9.750000000000002,
           15
          ],
          [
           15,
           14.999999999999998,
           14.999999999999998,
           15
          ]
         ],
         "z": [
          [
           22,
           18.5,
           11.500000000000002,
           8
          ],
          [
           22,
           18.5,
           11.500000000000002,
           8
          ],
          [
           22,
           18.5,
           11.500000000000002,
           8
          ],
          [
           22,
           18.5,
           11.500000000000002,
           8
          ]
         ]
        },
        {
         "colorscale": [
          [
           0,
           "#FFD700"
          ],
          [
           1,
           "#FFD700"
          ]
         ],
         "name": "nanoparticle 24",
         "showscale": false,
         "type": "surface",
         "uid": "7934260d-a95a-4853-b5ce-203a0adf9f1b",
         "x": [
          [
           60,
           66.06217782649107,
           66.06217782649107,
           60
          ],
          [
           60,
           56.96891108675447,
           56.96891108675447,
           60
          ],
          [
           60,
           56.96891108675446,
           56.96891108675446,
           60
          ],
          [
           60,
           66.06217782649107,
           66.06217782649107,
           60
          ]
         ],
         "y": [
          [
           30,
           30,
           30,
           30
          ],
          [
           30,
           35.25,
           35.25,
           30
          ],
          [
           30,
           24.750000000000004,
           24.75,
           30
          ],
          [
           30,
           30,
           30,
           30
          ]
         ],
         "z": [
          [
           7,
           3.500000000000001,
           -3.4999999999999982,
           -7
          ],
          [
           7,
           3.500000000000001,
           -3.4999999999999982,
           -7
          ],
          [
           7,
           3.500000000000001,
           -3.4999999999999982,
           -7
          ],
          [
           7,
           3.500000000000001,
           -3.4999999999999982,
           -7
          ]
         ]
        },
        {
         "colorscale": [
          [
           0,
           "#FFD700"
          ],
          [
           1,
           "#FFD700"
          ]
         ],
         "name": "nanoparticle 25",
         "showscale": false,
         "type": "surface",
         "uid": "b6e6f1b2-c2bd-47ad-929d-3f025b7ee9d7",
         "x": [
          [
           60,
           66.06217782649107,
           66.06217782649107,
           60
          ],
          [
           60,
           56.96891108675447,
           56.96891108675447,
           60
          ],
          [
           60,
           56.96891108675446,
           56.96891108675446,
           60
          ],
          [
           60,
           66.06217782649107,
           66.06217782649107,
           60
          ]
         ],
         "y": [
          [
           30,
           30,
           30,
           30
          ],
          [
           30,
           35.25,
           35.25,
           30
          ],
          [
           30,
           24.750000000000004,
           24.75,
           30
          ],
          [
           30,
           30,
           30,
           30
          ]
         ],
         "z": [
          [
           22,
           18.5,
           11.500000000000002,
           8
          ],
          [
           22,
           18.5,
           11.500000000000002,
           8
          ],
          [
           22,
           18.5,
           11.500000000000002,
           8
          ],
          [
           22,
           18.5,
           11.500000000000002,
           8
          ]
         ]
        },
        {
         "colorscale": [
          [
           0,
           "#FFD700"
          ],
          [
           1,
           "#FFD700"
          ]
         ],
         "name": "nanoparticle 26",
         "showscale": false,
         "type": "surface",
         "uid": "f2edd0b5-c822-4555-b42d-9f11065dbfcf",
         "x": [
          [
           60,
           66.06217782649107,
           66.06217782649107,
           60
          ],
          [
           60,
           56.96891108675447,
           56.96891108675447,
           60
          ],
          [
           60,
           56.96891108675446,
           56.96891108675446,
           60
          ],
          [
           60,
           66.06217782649107,
           66.06217782649107,
           60
          ]
         ],
         "y": [
          [
           45,
           45,
           45,
           45
          ],
          [
           45,
           50.25,
           50.25,
           45
          ],
          [
           45,
           39.75,
           39.75,
           45
          ],
          [
           45,
           45,
           45,
           45
          ]
         ],
         "z": [
          [
           7,
           3.500000000000001,
           -3.4999999999999982,
           -7
          ],
          [
           7,
           3.500000000000001,
           -3.4999999999999982,
           -7
          ],
          [
           7,
           3.500000000000001,
           -3.4999999999999982,
           -7
          ],
          [
           7,
           3.500000000000001,
           -3.4999999999999982,
           -7
          ]
         ]
        },
        {
         "colorscale": [
          [
           0,
           "#FFD700"
          ],
          [
           1,
           "#FFD700"
          ]
         ],
         "name": "nanoparticle 27",
         "showscale": false,
         "type": "surface",
         "uid": "f66da26b-2d47-48b2-a74a-6335749516cc",
         "x": [
          [
           60,
           66.06217782649107,
           66.06217782649107,
           60
          ],
          [
           60,
           56.96891108675447,
           56.96891108675447,
           60
          ],
          [
           60,
           56.96891108675446,
           56.96891108675446,
           60
          ],
          [
           60,
           66.06217782649107,
           66.06217782649107,
           60
          ]
         ],
         "y": [
          [
           45,
           45,
           45,
           45
          ],
          [
           45,
           50.25,
           50.25,
           45
          ],
          [
           45,
           39.75,
           39.75,
           45
          ],
          [
           45,
           45,
           45,
           45
          ]
         ],
         "z": [
          [
           22,
           18.5,
           11.500000000000002,
           8
          ],
          [
           22,
           18.5,
           11.500000000000002,
           8
          ],
          [
           22,
           18.5,
           11.500000000000002,
           8
          ],
          [
           22,
           18.5,
           11.500000000000002,
           8
          ]
         ]
        },
        {
         "colorscale": [
          [
           0,
           "#FFD700"
          ],
          [
           1,
           "#FFD700"
          ]
         ],
         "name": "nanoparticle 28",
         "showscale": false,
         "type": "surface",
         "uid": "4620a439-043f-4a3b-9f23-b5d52a3db124",
         "x": [
          [
           60,
           66.06217782649107,
           66.06217782649107,
           60
          ],
          [
           60,
           56.96891108675447,
           56.96891108675447,
           60
          ],
          [
           60,
           56.96891108675446,
           56.96891108675446,
           60
          ],
          [
           60,
           66.06217782649107,
           66.06217782649107,
           60
          ]
         ],
         "y": [
          [
           60,
           60,
           60,
           60
          ],
          [
           60,
           65.25,
           65.25,
           60
          ],
          [
           60,
           54.75,
           54.75,
           60
          ],
          [
           60,
           60,
           60,
           60
          ]
         ],
         "z": [
          [
           7,
           3.500000000000001,
           -3.4999999999999982,
           -7
          ],
          [
           7,
           3.500000000000001,
           -3.4999999999999982,
           -7
          ],
          [
           7,
           3.500000000000001,
           -3.4999999999999982,
           -7
          ],
          [
           7,
           3.500000000000001,
           -3.4999999999999982,
           -7
          ]
         ]
        },
        {
         "colorscale": [
          [
           0,
           "#FFD700"
          ],
          [
           1,
           "#FFD700"
          ]
         ],
         "name": "nanoparticle 29",
         "showscale": false,
         "type": "surface",
         "uid": "7be0f9b3-1250-4475-9a75-26ba1c2b6202",
         "x": [
          [
           60,
           66.06217782649107,
           66.06217782649107,
           60
          ],
          [
           60,
           56.96891108675447,
           56.96891108675447,
           60
          ],
          [
           60,
           56.96891108675446,
           56.96891108675446,
           60
          ],
          [
           60,
           66.06217782649107,
           66.06217782649107,
           60
          ]
         ],
         "y": [
          [
           60,
           60,
           60,
           60
          ],
          [
           60,
           65.25,
           65.25,
           60
          ],
          [
           60,
           54.75,
           54.75,
           60
          ],
          [
           60,
           60,
           60,
           60
          ]
         ],
         "z": [
          [
           22,
           18.5,
           11.500000000000002,
           8
          ],
          [
           22,
           18.5,
           11.500000000000002,
           8
          ],
          [
           22,
           18.5,
           11.500000000000002,
           8
          ],
          [
           22,
           18.5,
           11.500000000000002,
           8
          ]
         ]
        },
        {
         "colorscale": [
          [
           0,
           "#FFD700"
          ],
          [
           1,
           "#FFD700"
          ]
         ],
         "name": "nanoparticle 30",
         "showscale": false,
         "type": "surface",
         "uid": "7e29995a-2f94-40e6-b3b2-79a388234ed2",
         "x": [
          [
           90,
           96.06217782649107,
           96.06217782649107,
           90
          ],
          [
           90,
           86.96891108675446,
           86.96891108675446,
           90
          ],
          [
           90,
           86.96891108675446,
           86.96891108675446,
           90
          ],
          [
           90,
           96.06217782649107,
           96.06217782649107,
           90
          ]
         ],
         "y": [
          [
           0,
           0,
           0,
           0
          ],
          [
           0,
           5.25,
           5.250000000000001,
           7.424026671074348e-16
          ],
          [
           0,
           -5.249999999999997,
           -5.249999999999998,
           -7.424026671074346e-16
          ],
          [
           0,
           -1.4848053342148694e-15,
           -1.4848053342148696e-15,
           -2.0996636957266007e-31
          ]
         ],
         "z": [
          [
           7,
           3.500000000000001,
           -3.4999999999999982,
           -7
          ],
          [
           7,
           3.500000000000001,
           -3.4999999999999982,
           -7
          ],
          [
           7,
           3.500000000000001,
           -3.4999999999999982,
           -7
          ],
          [
           7,
           3.500000000000001,
           -3.4999999999999982,
           -7
          ]
         ]
        },
        {
         "colorscale": [
          [
           0,
           "#FFD700"
          ],
          [
           1,
           "#FFD700"
          ]
         ],
         "name": "nanoparticle 31",
         "showscale": false,
         "type": "surface",
         "uid": "d854aa49-f4cb-4bba-9f94-da6dcaea5cc1",
         "x": [
          [
           90,
           96.06217782649107,
           96.06217782649107,
           90
          ],
          [
           90,
           86.96891108675446,
           86.96891108675446,
           90
          ],
          [
           90,
           86.96891108675446,
           86.96891108675446,
           90
          ],
          [
           90,
           96.06217782649107,
           96.06217782649107,
           90
          ]
         ],
         "y": [
          [
           0,
           0,
           0,
           0
          ],
          [
           0,
           5.25,
           5.250000000000001,
           7.424026671074348e-16
          ],
          [
           0,
           -5.249999999999997,
           -5.249999999999998,
           -7.424026671074346e-16
          ],
          [
           0,
           -1.4848053342148694e-15,
           -1.4848053342148696e-15,
           -2.0996636957266007e-31
          ]
         ],
         "z": [
          [
           22,
           18.5,
           11.500000000000002,
           8
          ],
          [
           22,
           18.5,
           11.500000000000002,
           8
          ],
          [
           22,
           18.5,
           11.500000000000002,
           8
          ],
          [
           22,
           18.5,
           11.500000000000002,
           8
          ]
         ]
        },
        {
         "colorscale": [
          [
           0,
           "#FFD700"
          ],
          [
           1,
           "#FFD700"
          ]
         ],
         "name": "nanoparticle 32",
         "showscale": false,
         "type": "surface",
         "uid": "459177d4-4647-43a7-8529-49290a57c4d4",
         "x": [
          [
           90,
           96.06217782649107,
           96.06217782649107,
           90
          ],
          [
           90,
           86.96891108675446,
           86.96891108675446,
           90
          ],
          [
           90,
           86.96891108675446,
           86.96891108675446,
           90
          ],
          [
           90,
           96.06217782649107,
           96.06217782649107,
           90
          ]
         ],
         "y": [
          [
           15,
           15,
           15,
           15
          ],
          [
           15,
           20.25,
           20.25,
           15
          ],
          [
           15,
           9.750000000000004,
           9.750000000000002,
           15
          ],
          [
           15,
           14.999999999999998,
           14.999999999999998,
           15
          ]
         ],
         "z": [
          [
           7,
           3.500000000000001,
           -3.4999999999999982,
           -7
          ],
          [
           7,
           3.500000000000001,
           -3.4999999999999982,
           -7
          ],
          [
           7,
           3.500000000000001,
           -3.4999999999999982,
           -7
          ],
          [
           7,
           3.500000000000001,
           -3.4999999999999982,
           -7
          ]
         ]
        },
        {
         "colorscale": [
          [
           0,
           "#FFD700"
          ],
          [
           1,
           "#FFD700"
          ]
         ],
         "name": "nanoparticle 33",
         "showscale": false,
         "type": "surface",
         "uid": "c33d4619-6c4c-4c4d-9b57-bfe7ee147044",
         "x": [
          [
           90,
           96.06217782649107,
           96.06217782649107,
           90
          ],
          [
           90,
           86.96891108675446,
           86.96891108675446,
           90
          ],
          [
           90,
           86.96891108675446,
           86.96891108675446,
           90
          ],
          [
           90,
           96.06217782649107,
           96.06217782649107,
           90
          ]
         ],
         "y": [
          [
           15,
           15,
           15,
           15
          ],
          [
           15,
           20.25,
           20.25,
           15
          ],
          [
           15,
           9.750000000000004,
           9.750000000000002,
           15
          ],
          [
           15,
           14.999999999999998,
           14.999999999999998,
           15
          ]
         ],
         "z": [
          [
           22,
           18.5,
           11.500000000000002,
           8
          ],
          [
           22,
           18.5,
           11.500000000000002,
           8
          ],
          [
           22,
           18.5,
           11.500000000000002,
           8
          ],
          [
           22,
           18.5,
           11.500000000000002,
           8
          ]
         ]
        },
        {
         "colorscale": [
          [
           0,
           "#FFD700"
          ],
          [
           1,
           "#FFD700"
          ]
         ],
         "name": "nanoparticle 34",
         "showscale": false,
         "type": "surface",
         "uid": "73d07136-8e8d-4fe0-b068-47de4fb59600",
         "x": [
          [
           90,
           96.06217782649107,
           96.06217782649107,
           90
          ],
          [
           90,
           86.96891108675446,
           86.96891108675446,
           90
          ],
          [
           90,
           86.96891108675446,
           86.96891108675446,
           90
          ],
          [
           90,
           96.06217782649107,
           96.06217782649107,
           90
          ]
         ],
         "y": [
          [
           30,
           30,
           30,
           30
          ],
          [
           30,
           35.25,
           35.25,
           30
          ],
          [
           30,
           24.750000000000004,
           24.75,
           30
          ],
          [
           30,
           30,
           30,
           30
          ]
         ],
         "z": [
          [
           7,
           3.500000000000001,
           -3.4999999999999982,
           -7
          ],
          [
           7,
           3.500000000000001,
           -3.4999999999999982,
           -7
          ],
          [
           7,
           3.500000000000001,
           -3.4999999999999982,
           -7
          ],
          [
           7,
           3.500000000000001,
           -3.4999999999999982,
           -7
          ]
         ]
        },
        {
         "colorscale": [
          [
           0,
           "#FFD700"
          ],
          [
           1,
           "#FFD700"
          ]
         ],
         "name": "nanoparticle 35",
         "showscale": false,
         "type": "surface",
         "uid": "527eb80a-af35-409f-949b-3a2e9046a356",
         "x": [
          [
           90,
           96.06217782649107,
           96.06217782649107,
           90
          ],
          [
           90,
           86.96891108675446,
           86.96891108675446,
           90
          ],
          [
           90,
           86.96891108675446,
           86.96891108675446,
           90
          ],
          [
           90,
           96.06217782649107,
           96.06217782649107,
           90
          ]
         ],
         "y": [
          [
           30,
           30,
           30,
           30
          ],
          [
           30,
           35.25,
           35.25,
           30
          ],
          [
           30,
           24.750000000000004,
           24.75,
           30
          ],
          [
           30,
           30,
           30,
           30
          ]
         ],
         "z": [
          [
           22,
           18.5,
           11.500000000000002,
           8
          ],
          [
           22,
           18.5,
           11.500000000000002,
           8
          ],
          [
           22,
           18.5,
           11.500000000000002,
           8
          ],
          [
           22,
           18.5,
           11.500000000000002,
           8
          ]
         ]
        },
        {
         "colorscale": [
          [
           0,
           "#FFD700"
          ],
          [
           1,
           "#FFD700"
          ]
         ],
         "name": "nanoparticle 36",
         "showscale": false,
         "type": "surface",
         "uid": "aaea88f5-0aac-4679-ade0-8ab58c82c756",
         "x": [
          [
           90,
           96.06217782649107,
           96.06217782649107,
           90
          ],
          [
           90,
           86.96891108675446,
           86.96891108675446,
           90
          ],
          [
           90,
           86.96891108675446,
           86.96891108675446,
           90
          ],
          [
           90,
           96.06217782649107,
           96.06217782649107,
           90
          ]
         ],
         "y": [
          [
           45,
           45,
           45,
           45
          ],
          [
           45,
           50.25,
           50.25,
           45
          ],
          [
           45,
           39.75,
           39.75,
           45
          ],
          [
           45,
           45,
           45,
           45
          ]
         ],
         "z": [
          [
           7,
           3.500000000000001,
           -3.4999999999999982,
           -7
          ],
          [
           7,
           3.500000000000001,
           -3.4999999999999982,
           -7
          ],
          [
           7,
           3.500000000000001,
           -3.4999999999999982,
           -7
          ],
          [
           7,
           3.500000000000001,
           -3.4999999999999982,
           -7
          ]
         ]
        },
        {
         "colorscale": [
          [
           0,
           "#FFD700"
          ],
          [
           1,
           "#FFD700"
          ]
         ],
         "name": "nanoparticle 37",
         "showscale": false,
         "type": "surface",
         "uid": "c73efa7a-fe76-432a-a262-49734fa7924c",
         "x": [
          [
           90,
           96.06217782649107,
           96.06217782649107,
           90
          ],
          [
           90,
           86.96891108675446,
           86.96891108675446,
           90
          ],
          [
           90,
           86.96891108675446,
           86.96891108675446,
           90
          ],
          [
           90,
           96.06217782649107,
           96.06217782649107,
           90
          ]
         ],
         "y": [
          [
           45,
           45,
           45,
           45
          ],
          [
           45,
           50.25,
           50.25,
           45
          ],
          [
           45,
           39.75,
           39.75,
           45
          ],
          [
           45,
           45,
           45,
           45
          ]
         ],
         "z": [
          [
           22,
           18.5,
           11.500000000000002,
           8
          ],
          [
           22,
           18.5,
           11.500000000000002,
           8
          ],
          [
           22,
           18.5,
           11.500000000000002,
           8
          ],
          [
           22,
           18.5,
           11.500000000000002,
           8
          ]
         ]
        },
        {
         "colorscale": [
          [
           0,
           "#FFD700"
          ],
          [
           1,
           "#FFD700"
          ]
         ],
         "name": "nanoparticle 38",
         "showscale": false,
         "type": "surface",
         "uid": "48464500-14df-4954-b78d-9248b05c59a7",
         "x": [
          [
           90,
           96.06217782649107,
           96.06217782649107,
           90
          ],
          [
           90,
           86.96891108675446,
           86.96891108675446,
           90
          ],
          [
           90,
           86.96891108675446,
           86.96891108675446,
           90
          ],
          [
           90,
           96.06217782649107,
           96.06217782649107,
           90
          ]
         ],
         "y": [
          [
           60,
           60,
           60,
           60
          ],
          [
           60,
           65.25,
           65.25,
           60
          ],
          [
           60,
           54.75,
           54.75,
           60
          ],
          [
           60,
           60,
           60,
           60
          ]
         ],
         "z": [
          [
           7,
           3.500000000000001,
           -3.4999999999999982,
           -7
          ],
          [
           7,
           3.500000000000001,
           -3.4999999999999982,
           -7
          ],
          [
           7,
           3.500000000000001,
           -3.4999999999999982,
           -7
          ],
          [
           7,
           3.500000000000001,
           -3.4999999999999982,
           -7
          ]
         ]
        },
        {
         "colorscale": [
          [
           0,
           "#FFD700"
          ],
          [
           1,
           "#FFD700"
          ]
         ],
         "name": "nanoparticle 39",
         "showscale": false,
         "type": "surface",
         "uid": "97ba2527-f33a-487c-888d-a4d444868057",
         "x": [
          [
           90,
           96.06217782649107,
           96.06217782649107,
           90
          ],
          [
           90,
           86.96891108675446,
           86.96891108675446,
           90
          ],
          [
           90,
           86.96891108675446,
           86.96891108675446,
           90
          ],
          [
           90,
           96.06217782649107,
           96.06217782649107,
           90
          ]
         ],
         "y": [
          [
           60,
           60,
           60,
           60
          ],
          [
           60,
           65.25,
           65.25,
           60
          ],
          [
           60,
           54.75,
           54.75,
           60
          ],
          [
           60,
           60,
           60,
           60
          ]
         ],
         "z": [
          [
           22,
           18.5,
           11.500000000000002,
           8
          ],
          [
           22,
           18.5,
           11.500000000000002,
           8
          ],
          [
           22,
           18.5,
           11.500000000000002,
           8
          ],
          [
           22,
           18.5,
           11.500000000000002,
           8
          ]
         ]
        },
        {
         "colorscale": [
          [
           0,
           "#FFD700"
          ],
          [
           1,
           "#FFD700"
          ]
         ],
         "name": "nanoparticle 40",
         "showscale": false,
         "type": "surface",
         "uid": "12753390-443b-48b6-a6b1-31a6f3ce25e8",
         "x": [
          [
           120,
           126.06217782649107,
           126.06217782649107,
           120
          ],
          [
           120,
           116.96891108675446,
           116.96891108675446,
           120
          ],
          [
           120,
           116.96891108675446,
           116.96891108675446,
           120
          ],
          [
           120,
           126.06217782649107,
           126.06217782649107,
           120
          ]
         ],
         "y": [
          [
           0,
           0,
           0,
           0
          ],
          [
           0,
           5.25,
           5.250000000000001,
           7.424026671074348e-16
          ],
          [
           0,
           -5.249999999999997,
           -5.249999999999998,
           -7.424026671074346e-16
          ],
          [
           0,
           -1.4848053342148694e-15,
           -1.4848053342148696e-15,
           -2.0996636957266007e-31
          ]
         ],
         "z": [
          [
           7,
           3.500000000000001,
           -3.4999999999999982,
           -7
          ],
          [
           7,
           3.500000000000001,
           -3.4999999999999982,
           -7
          ],
          [
           7,
           3.500000000000001,
           -3.4999999999999982,
           -7
          ],
          [
           7,
           3.500000000000001,
           -3.4999999999999982,
           -7
          ]
         ]
        },
        {
         "colorscale": [
          [
           0,
           "#FFD700"
          ],
          [
           1,
           "#FFD700"
          ]
         ],
         "name": "nanoparticle 41",
         "showscale": false,
         "type": "surface",
         "uid": "ec5b1e16-a482-4152-b314-3a14ad8b5936",
         "x": [
          [
           120,
           126.06217782649107,
           126.06217782649107,
           120
          ],
          [
           120,
           116.96891108675446,
           116.96891108675446,
           120
          ],
          [
           120,
           116.96891108675446,
           116.96891108675446,
           120
          ],
          [
           120,
           126.06217782649107,
           126.06217782649107,
           120
          ]
         ],
         "y": [
          [
           0,
           0,
           0,
           0
          ],
          [
           0,
           5.25,
           5.250000000000001,
           7.424026671074348e-16
          ],
          [
           0,
           -5.249999999999997,
           -5.249999999999998,
           -7.424026671074346e-16
          ],
          [
           0,
           -1.4848053342148694e-15,
           -1.4848053342148696e-15,
           -2.0996636957266007e-31
          ]
         ],
         "z": [
          [
           22,
           18.5,
           11.500000000000002,
           8
          ],
          [
           22,
           18.5,
           11.500000000000002,
           8
          ],
          [
           22,
           18.5,
           11.500000000000002,
           8
          ],
          [
           22,
           18.5,
           11.500000000000002,
           8
          ]
         ]
        },
        {
         "colorscale": [
          [
           0,
           "#FFD700"
          ],
          [
           1,
           "#FFD700"
          ]
         ],
         "name": "nanoparticle 42",
         "showscale": false,
         "type": "surface",
         "uid": "14b2b7ac-ccbf-4d31-8f4c-17ba6dd96329",
         "x": [
          [
           120,
           126.06217782649107,
           126.06217782649107,
           120
          ],
          [
           120,
           116.96891108675446,
           116.96891108675446,
           120
          ],
          [
           120,
           116.96891108675446,
           116.96891108675446,
           120
          ],
          [
           120,
           126.06217782649107,
           126.06217782649107,
           120
          ]
         ],
         "y": [
          [
           15,
           15,
           15,
           15
          ],
          [
           15,
           20.25,
           20.25,
           15
          ],
          [
           15,
           9.750000000000004,
           9.750000000000002,
           15
          ],
          [
           15,
           14.999999999999998,
           14.999999999999998,
           15
          ]
         ],
         "z": [
          [
           7,
           3.500000000000001,
           -3.4999999999999982,
           -7
          ],
          [
           7,
           3.500000000000001,
           -3.4999999999999982,
           -7
          ],
          [
           7,
           3.500000000000001,
           -3.4999999999999982,
           -7
          ],
          [
           7,
           3.500000000000001,
           -3.4999999999999982,
           -7
          ]
         ]
        },
        {
         "colorscale": [
          [
           0,
           "#FFD700"
          ],
          [
           1,
           "#FFD700"
          ]
         ],
         "name": "nanoparticle 43",
         "showscale": false,
         "type": "surface",
         "uid": "56f10010-5138-4202-bbb2-076aace940f6",
         "x": [
          [
           120,
           126.06217782649107,
           126.06217782649107,
           120
          ],
          [
           120,
           116.96891108675446,
           116.96891108675446,
           120
          ],
          [
           120,
           116.96891108675446,
           116.96891108675446,
           120
          ],
          [
           120,
           126.06217782649107,
           126.06217782649107,
           120
          ]
         ],
         "y": [
          [
           15,
           15,
           15,
           15
          ],
          [
           15,
           20.25,
           20.25,
           15
          ],
          [
           15,
           9.750000000000004,
           9.750000000000002,
           15
          ],
          [
           15,
           14.999999999999998,
           14.999999999999998,
           15
          ]
         ],
         "z": [
          [
           22,
           18.5,
           11.500000000000002,
           8
          ],
          [
           22,
           18.5,
           11.500000000000002,
           8
          ],
          [
           22,
           18.5,
           11.500000000000002,
           8
          ],
          [
           22,
           18.5,
           11.500000000000002,
           8
          ]
         ]
        },
        {
         "colorscale": [
          [
           0,
           "#FFD700"
          ],
          [
           1,
           "#FFD700"
          ]
         ],
         "name": "nanoparticle 44",
         "showscale": false,
         "type": "surface",
         "uid": "b1050e40-600a-4460-a330-984d05abb429",
         "x": [
          [
           120,
           126.06217782649107,
           126.06217782649107,
           120
          ],
          [
           120,
           116.96891108675446,
           116.96891108675446,
           120
          ],
          [
           120,
           116.96891108675446,
           116.96891108675446,
           120
          ],
          [
           120,
           126.06217782649107,
           126.06217782649107,
           120
          ]
         ],
         "y": [
          [
           30,
           30,
           30,
           30
          ],
          [
           30,
           35.25,
           35.25,
           30
          ],
          [
           30,
           24.750000000000004,
           24.75,
           30
          ],
          [
           30,
           30,
           30,
           30
          ]
         ],
         "z": [
          [
           7,
           3.500000000000001,
           -3.4999999999999982,
           -7
          ],
          [
           7,
           3.500000000000001,
           -3.4999999999999982,
           -7
          ],
          [
           7,
           3.500000000000001,
           -3.4999999999999982,
           -7
          ],
          [
           7,
           3.500000000000001,
           -3.4999999999999982,
           -7
          ]
         ]
        },
        {
         "colorscale": [
          [
           0,
           "#FFD700"
          ],
          [
           1,
           "#FFD700"
          ]
         ],
         "name": "nanoparticle 45",
         "showscale": false,
         "type": "surface",
         "uid": "106edc8c-d1a2-4360-af99-c9fdc4bbf929",
         "x": [
          [
           120,
           126.06217782649107,
           126.06217782649107,
           120
          ],
          [
           120,
           116.96891108675446,
           116.96891108675446,
           120
          ],
          [
           120,
           116.96891108675446,
           116.96891108675446,
           120
          ],
          [
           120,
           126.06217782649107,
           126.06217782649107,
           120
          ]
         ],
         "y": [
          [
           30,
           30,
           30,
           30
          ],
          [
           30,
           35.25,
           35.25,
           30
          ],
          [
           30,
           24.750000000000004,
           24.75,
           30
          ],
          [
           30,
           30,
           30,
           30
          ]
         ],
         "z": [
          [
           22,
           18.5,
           11.500000000000002,
           8
          ],
          [
           22,
           18.5,
           11.500000000000002,
           8
          ],
          [
           22,
           18.5,
           11.500000000000002,
           8
          ],
          [
           22,
           18.5,
           11.500000000000002,
           8
          ]
         ]
        },
        {
         "colorscale": [
          [
           0,
           "#FFD700"
          ],
          [
           1,
           "#FFD700"
          ]
         ],
         "name": "nanoparticle 46",
         "showscale": false,
         "type": "surface",
         "uid": "8db73b1c-2acf-40c5-816b-aa182c261308",
         "x": [
          [
           120,
           126.06217782649107,
           126.06217782649107,
           120
          ],
          [
           120,
           116.96891108675446,
           116.96891108675446,
           120
          ],
          [
           120,
           116.96891108675446,
           116.96891108675446,
           120
          ],
          [
           120,
           126.06217782649107,
           126.06217782649107,
           120
          ]
         ],
         "y": [
          [
           45,
           45,
           45,
           45
          ],
          [
           45,
           50.25,
           50.25,
           45
          ],
          [
           45,
           39.75,
           39.75,
           45
          ],
          [
           45,
           45,
           45,
           45
          ]
         ],
         "z": [
          [
           7,
           3.500000000000001,
           -3.4999999999999982,
           -7
          ],
          [
           7,
           3.500000000000001,
           -3.4999999999999982,
           -7
          ],
          [
           7,
           3.500000000000001,
           -3.4999999999999982,
           -7
          ],
          [
           7,
           3.500000000000001,
           -3.4999999999999982,
           -7
          ]
         ]
        },
        {
         "colorscale": [
          [
           0,
           "#FFD700"
          ],
          [
           1,
           "#FFD700"
          ]
         ],
         "name": "nanoparticle 47",
         "showscale": false,
         "type": "surface",
         "uid": "d74e491c-df08-4f88-9b70-c4ace082eefc",
         "x": [
          [
           120,
           126.06217782649107,
           126.06217782649107,
           120
          ],
          [
           120,
           116.96891108675446,
           116.96891108675446,
           120
          ],
          [
           120,
           116.96891108675446,
           116.96891108675446,
           120
          ],
          [
           120,
           126.06217782649107,
           126.06217782649107,
           120
          ]
         ],
         "y": [
          [
           45,
           45,
           45,
           45
          ],
          [
           45,
           50.25,
           50.25,
           45
          ],
          [
           45,
           39.75,
           39.75,
           45
          ],
          [
           45,
           45,
           45,
           45
          ]
         ],
         "z": [
          [
           22,
           18.5,
           11.500000000000002,
           8
          ],
          [
           22,
           18.5,
           11.500000000000002,
           8
          ],
          [
           22,
           18.5,
           11.500000000000002,
           8
          ],
          [
           22,
           18.5,
           11.500000000000002,
           8
          ]
         ]
        },
        {
         "colorscale": [
          [
           0,
           "#FFD700"
          ],
          [
           1,
           "#FFD700"
          ]
         ],
         "name": "nanoparticle 48",
         "showscale": false,
         "type": "surface",
         "uid": "e803b808-937b-44e3-9764-78571eed6f59",
         "x": [
          [
           120,
           126.06217782649107,
           126.06217782649107,
           120
          ],
          [
           120,
           116.96891108675446,
           116.96891108675446,
           120
          ],
          [
           120,
           116.96891108675446,
           116.96891108675446,
           120
          ],
          [
           120,
           126.06217782649107,
           126.06217782649107,
           120
          ]
         ],
         "y": [
          [
           60,
           60,
           60,
           60
          ],
          [
           60,
           65.25,
           65.25,
           60
          ],
          [
           60,
           54.75,
           54.75,
           60
          ],
          [
           60,
           60,
           60,
           60
          ]
         ],
         "z": [
          [
           7,
           3.500000000000001,
           -3.4999999999999982,
           -7
          ],
          [
           7,
           3.500000000000001,
           -3.4999999999999982,
           -7
          ],
          [
           7,
           3.500000000000001,
           -3.4999999999999982,
           -7
          ],
          [
           7,
           3.500000000000001,
           -3.4999999999999982,
           -7
          ]
         ]
        },
        {
         "colorscale": [
          [
           0,
           "#FFD700"
          ],
          [
           1,
           "#FFD700"
          ]
         ],
         "name": "nanoparticle 49",
         "showscale": false,
         "type": "surface",
         "uid": "26e32f48-ff77-44b4-898e-a4639cdcafcb",
         "x": [
          [
           120,
           126.06217782649107,
           126.06217782649107,
           120
          ],
          [
           120,
           116.96891108675446,
           116.96891108675446,
           120
          ],
          [
           120,
           116.96891108675446,
           116.96891108675446,
           120
          ],
          [
           120,
           126.06217782649107,
           126.06217782649107,
           120
          ]
         ],
         "y": [
          [
           60,
           60,
           60,
           60
          ],
          [
           60,
           65.25,
           65.25,
           60
          ],
          [
           60,
           54.75,
           54.75,
           60
          ],
          [
           60,
           60,
           60,
           60
          ]
         ],
         "z": [
          [
           22,
           18.5,
           11.500000000000002,
           8
          ],
          [
           22,
           18.5,
           11.500000000000002,
           8
          ],
          [
           22,
           18.5,
           11.500000000000002,
           8
          ],
          [
           22,
           18.5,
           11.500000000000002,
           8
          ]
         ]
        }
       ],
       "layout": {
        "scene": {
         "aspectmode": "data",
         "xaxis": {
          "backgroundcolor": "rgb(230, 230,230)",
          "gridcolor": "rgb(255, 255, 255)",
          "showbackground": true,
          "zerolinecolor": "rgb(255, 255, 255)"
         },
         "yaxis": {
          "backgroundcolor": "rgb(230, 230,230)",
          "gridcolor": "rgb(255, 255, 255)",
          "showbackground": true,
          "zerolinecolor": "rgb(255, 255, 255)"
         },
         "zaxis": {
          "backgroundcolor": "rgb(230, 230,230)",
          "gridcolor": "rgb(255, 255, 255)",
          "showbackground": true,
          "zerolinecolor": "rgb(255, 255, 255)"
         }
        },
        "title": {
         "text": "3D target plot"
        }
       }
      },
      "text/html": [
       "<div>\n",
       "        \n",
       "        \n",
       "            <div id=\"977406bc-5109-42b7-bf7c-f432cfecd66c\" class=\"plotly-graph-div\" style=\"height:525px; width:100%;\"></div>\n",
       "            <script type=\"text/javascript\">\n",
       "                require([\"plotly\"], function(Plotly) {\n",
       "                    window.PLOTLYENV=window.PLOTLYENV || {};\n",
       "                    window.PLOTLYENV.BASE_URL='https://plot.ly';\n",
       "                    \n",
       "                if (document.getElementById(\"977406bc-5109-42b7-bf7c-f432cfecd66c\")) {\n",
       "                    Plotly.newPlot(\n",
       "                        '977406bc-5109-42b7-bf7c-f432cfecd66c',\n",
       "                        [{\"colorscale\": [[0, \"#FFD700\"], [1, \"#FFD700\"]], \"name\": \"nanoparticle 0\", \"showscale\": false, \"type\": \"surface\", \"uid\": \"be5b9100-6bbe-4114-bacb-e41f35b30a4a\", \"x\": [[0.0, 6.06217782649107, 6.062177826491071, 8.572527594031472e-16], [0.0, -3.031088913245534, -3.0310889132455343, -4.2862637970157346e-16], [0.0, -3.031088913245538, -3.0310889132455383, -4.2862637970157396e-16], [0.0, 6.06217782649107, 6.062177826491071, 8.572527594031472e-16]], \"y\": [[0.0, 0.0, 0.0, 0.0], [0.0, 5.25, 5.250000000000001, 7.424026671074348e-16], [0.0, -5.249999999999997, -5.249999999999998, -7.424026671074346e-16], [0.0, -1.4848053342148694e-15, -1.4848053342148696e-15, -2.0996636957266007e-31]], \"z\": [[7.0, 3.500000000000001, -3.4999999999999982, -7.0], [7.0, 3.500000000000001, -3.4999999999999982, -7.0], [7.0, 3.500000000000001, -3.4999999999999982, -7.0], [7.0, 3.500000000000001, -3.4999999999999982, -7.0]]}, {\"colorscale\": [[0, \"#FFD700\"], [1, \"#FFD700\"]], \"name\": \"nanoparticle 1\", \"showscale\": false, \"type\": \"surface\", \"uid\": \"52c13a8d-b51d-454f-b83a-7dc113596710\", \"x\": [[0.0, 6.06217782649107, 6.062177826491071, 8.572527594031472e-16], [0.0, -3.031088913245534, -3.0310889132455343, -4.2862637970157346e-16], [0.0, -3.031088913245538, -3.0310889132455383, -4.2862637970157396e-16], [0.0, 6.06217782649107, 6.062177826491071, 8.572527594031472e-16]], \"y\": [[0.0, 0.0, 0.0, 0.0], [0.0, 5.25, 5.250000000000001, 7.424026671074348e-16], [0.0, -5.249999999999997, -5.249999999999998, -7.424026671074346e-16], [0.0, -1.4848053342148694e-15, -1.4848053342148696e-15, -2.0996636957266007e-31]], \"z\": [[22.0, 18.5, 11.500000000000002, 8.0], [22.0, 18.5, 11.500000000000002, 8.0], [22.0, 18.5, 11.500000000000002, 8.0], [22.0, 18.5, 11.500000000000002, 8.0]]}, {\"colorscale\": [[0, \"#FFD700\"], [1, \"#FFD700\"]], \"name\": \"nanoparticle 2\", \"showscale\": false, \"type\": \"surface\", \"uid\": \"e83db1cc-6eb9-4966-b1e0-bd9b3a5599f5\", \"x\": [[0.0, 6.06217782649107, 6.062177826491071, 8.572527594031472e-16], [0.0, -3.031088913245534, -3.0310889132455343, -4.2862637970157346e-16], [0.0, -3.031088913245538, -3.0310889132455383, -4.2862637970157396e-16], [0.0, 6.06217782649107, 6.062177826491071, 8.572527594031472e-16]], \"y\": [[15.0, 15.0, 15.0, 15.0], [15.0, 20.25, 20.25, 15.0], [15.0, 9.750000000000004, 9.750000000000002, 15.0], [15.0, 14.999999999999998, 14.999999999999998, 15.0]], \"z\": [[7.0, 3.500000000000001, -3.4999999999999982, -7.0], [7.0, 3.500000000000001, -3.4999999999999982, -7.0], [7.0, 3.500000000000001, -3.4999999999999982, -7.0], [7.0, 3.500000000000001, -3.4999999999999982, -7.0]]}, {\"colorscale\": [[0, \"#FFD700\"], [1, \"#FFD700\"]], \"name\": \"nanoparticle 3\", \"showscale\": false, \"type\": \"surface\", \"uid\": \"9733c829-8697-4a45-b936-5aee1d7fae62\", \"x\": [[0.0, 6.06217782649107, 6.062177826491071, 8.572527594031472e-16], [0.0, -3.031088913245534, -3.0310889132455343, -4.2862637970157346e-16], [0.0, -3.031088913245538, -3.0310889132455383, -4.2862637970157396e-16], [0.0, 6.06217782649107, 6.062177826491071, 8.572527594031472e-16]], \"y\": [[15.0, 15.0, 15.0, 15.0], [15.0, 20.25, 20.25, 15.0], [15.0, 9.750000000000004, 9.750000000000002, 15.0], [15.0, 14.999999999999998, 14.999999999999998, 15.0]], \"z\": [[22.0, 18.5, 11.500000000000002, 8.0], [22.0, 18.5, 11.500000000000002, 8.0], [22.0, 18.5, 11.500000000000002, 8.0], [22.0, 18.5, 11.500000000000002, 8.0]]}, {\"colorscale\": [[0, \"#FFD700\"], [1, \"#FFD700\"]], \"name\": \"nanoparticle 4\", \"showscale\": false, \"type\": \"surface\", \"uid\": \"1a7c0746-6701-4b6c-9763-6fea48f56db0\", \"x\": [[0.0, 6.06217782649107, 6.062177826491071, 8.572527594031472e-16], [0.0, -3.031088913245534, -3.0310889132455343, -4.2862637970157346e-16], [0.0, -3.031088913245538, -3.0310889132455383, -4.2862637970157396e-16], [0.0, 6.06217782649107, 6.062177826491071, 8.572527594031472e-16]], \"y\": [[30.0, 30.0, 30.0, 30.0], [30.0, 35.25, 35.25, 30.0], [30.0, 24.750000000000004, 24.75, 30.0], [30.0, 30.0, 30.0, 30.0]], \"z\": [[7.0, 3.500000000000001, -3.4999999999999982, -7.0], [7.0, 3.500000000000001, -3.4999999999999982, -7.0], [7.0, 3.500000000000001, -3.4999999999999982, -7.0], [7.0, 3.500000000000001, -3.4999999999999982, -7.0]]}, {\"colorscale\": [[0, \"#FFD700\"], [1, \"#FFD700\"]], \"name\": \"nanoparticle 5\", \"showscale\": false, \"type\": \"surface\", \"uid\": \"ebff5649-f6ac-4456-996f-1ad26e92f362\", \"x\": [[0.0, 6.06217782649107, 6.062177826491071, 8.572527594031472e-16], [0.0, -3.031088913245534, -3.0310889132455343, -4.2862637970157346e-16], [0.0, -3.031088913245538, -3.0310889132455383, -4.2862637970157396e-16], [0.0, 6.06217782649107, 6.062177826491071, 8.572527594031472e-16]], \"y\": [[30.0, 30.0, 30.0, 30.0], [30.0, 35.25, 35.25, 30.0], [30.0, 24.750000000000004, 24.75, 30.0], [30.0, 30.0, 30.0, 30.0]], \"z\": [[22.0, 18.5, 11.500000000000002, 8.0], [22.0, 18.5, 11.500000000000002, 8.0], [22.0, 18.5, 11.500000000000002, 8.0], [22.0, 18.5, 11.500000000000002, 8.0]]}, {\"colorscale\": [[0, \"#FFD700\"], [1, \"#FFD700\"]], \"name\": \"nanoparticle 6\", \"showscale\": false, \"type\": \"surface\", \"uid\": \"0c87ff2e-7d15-4ab3-8f3c-e1196c644991\", \"x\": [[0.0, 6.06217782649107, 6.062177826491071, 8.572527594031472e-16], [0.0, -3.031088913245534, -3.0310889132455343, -4.2862637970157346e-16], [0.0, -3.031088913245538, -3.0310889132455383, -4.2862637970157396e-16], [0.0, 6.06217782649107, 6.062177826491071, 8.572527594031472e-16]], \"y\": [[45.0, 45.0, 45.0, 45.0], [45.0, 50.25, 50.25, 45.0], [45.0, 39.75, 39.75, 45.0], [45.0, 45.0, 45.0, 45.0]], \"z\": [[7.0, 3.500000000000001, -3.4999999999999982, -7.0], [7.0, 3.500000000000001, -3.4999999999999982, -7.0], [7.0, 3.500000000000001, -3.4999999999999982, -7.0], [7.0, 3.500000000000001, -3.4999999999999982, -7.0]]}, {\"colorscale\": [[0, \"#FFD700\"], [1, \"#FFD700\"]], \"name\": \"nanoparticle 7\", \"showscale\": false, \"type\": \"surface\", \"uid\": \"06a79b59-680a-437f-a791-2695d8b69b6c\", \"x\": [[0.0, 6.06217782649107, 6.062177826491071, 8.572527594031472e-16], [0.0, -3.031088913245534, -3.0310889132455343, -4.2862637970157346e-16], [0.0, -3.031088913245538, -3.0310889132455383, -4.2862637970157396e-16], [0.0, 6.06217782649107, 6.062177826491071, 8.572527594031472e-16]], \"y\": [[45.0, 45.0, 45.0, 45.0], [45.0, 50.25, 50.25, 45.0], [45.0, 39.75, 39.75, 45.0], [45.0, 45.0, 45.0, 45.0]], \"z\": [[22.0, 18.5, 11.500000000000002, 8.0], [22.0, 18.5, 11.500000000000002, 8.0], [22.0, 18.5, 11.500000000000002, 8.0], [22.0, 18.5, 11.500000000000002, 8.0]]}, {\"colorscale\": [[0, \"#FFD700\"], [1, \"#FFD700\"]], \"name\": \"nanoparticle 8\", \"showscale\": false, \"type\": \"surface\", \"uid\": \"db362db1-79c0-4c46-bcc3-4f56f6f71e31\", \"x\": [[0.0, 6.06217782649107, 6.062177826491071, 8.572527594031472e-16], [0.0, -3.031088913245534, -3.0310889132455343, -4.2862637970157346e-16], [0.0, -3.031088913245538, -3.0310889132455383, -4.2862637970157396e-16], [0.0, 6.06217782649107, 6.062177826491071, 8.572527594031472e-16]], \"y\": [[60.0, 60.0, 60.0, 60.0], [60.0, 65.25, 65.25, 60.0], [60.0, 54.75, 54.75, 60.0], [60.0, 60.0, 60.0, 60.0]], \"z\": [[7.0, 3.500000000000001, -3.4999999999999982, -7.0], [7.0, 3.500000000000001, -3.4999999999999982, -7.0], [7.0, 3.500000000000001, -3.4999999999999982, -7.0], [7.0, 3.500000000000001, -3.4999999999999982, -7.0]]}, {\"colorscale\": [[0, \"#FFD700\"], [1, \"#FFD700\"]], \"name\": \"nanoparticle 9\", \"showscale\": false, \"type\": \"surface\", \"uid\": \"6d0379e7-db7e-4efd-b305-4258d28df399\", \"x\": [[0.0, 6.06217782649107, 6.062177826491071, 8.572527594031472e-16], [0.0, -3.031088913245534, -3.0310889132455343, -4.2862637970157346e-16], [0.0, -3.031088913245538, -3.0310889132455383, -4.2862637970157396e-16], [0.0, 6.06217782649107, 6.062177826491071, 8.572527594031472e-16]], \"y\": [[60.0, 60.0, 60.0, 60.0], [60.0, 65.25, 65.25, 60.0], [60.0, 54.75, 54.75, 60.0], [60.0, 60.0, 60.0, 60.0]], \"z\": [[22.0, 18.5, 11.500000000000002, 8.0], [22.0, 18.5, 11.500000000000002, 8.0], [22.0, 18.5, 11.500000000000002, 8.0], [22.0, 18.5, 11.500000000000002, 8.0]]}, {\"colorscale\": [[0, \"#FFD700\"], [1, \"#FFD700\"]], \"name\": \"nanoparticle 10\", \"showscale\": false, \"type\": \"surface\", \"uid\": \"e96ef94d-d3ec-44f3-902e-778f4c42c537\", \"x\": [[30.0, 36.06217782649107, 36.06217782649107, 30.0], [30.0, 26.968911086754467, 26.968911086754467, 30.0], [30.0, 26.968911086754463, 26.96891108675446, 30.0], [30.0, 36.06217782649107, 36.06217782649107, 30.0]], \"y\": [[0.0, 0.0, 0.0, 0.0], [0.0, 5.25, 5.250000000000001, 7.424026671074348e-16], [0.0, -5.249999999999997, -5.249999999999998, -7.424026671074346e-16], [0.0, -1.4848053342148694e-15, -1.4848053342148696e-15, -2.0996636957266007e-31]], \"z\": [[7.0, 3.500000000000001, -3.4999999999999982, -7.0], [7.0, 3.500000000000001, -3.4999999999999982, -7.0], [7.0, 3.500000000000001, -3.4999999999999982, -7.0], [7.0, 3.500000000000001, -3.4999999999999982, -7.0]]}, {\"colorscale\": [[0, \"#FFD700\"], [1, \"#FFD700\"]], \"name\": \"nanoparticle 11\", \"showscale\": false, \"type\": \"surface\", \"uid\": \"ff5ed189-5327-40ad-9c09-ba1d74d4bf84\", \"x\": [[30.0, 36.06217782649107, 36.06217782649107, 30.0], [30.0, 26.968911086754467, 26.968911086754467, 30.0], [30.0, 26.968911086754463, 26.96891108675446, 30.0], [30.0, 36.06217782649107, 36.06217782649107, 30.0]], \"y\": [[0.0, 0.0, 0.0, 0.0], [0.0, 5.25, 5.250000000000001, 7.424026671074348e-16], [0.0, -5.249999999999997, -5.249999999999998, -7.424026671074346e-16], [0.0, -1.4848053342148694e-15, -1.4848053342148696e-15, -2.0996636957266007e-31]], \"z\": [[22.0, 18.5, 11.500000000000002, 8.0], [22.0, 18.5, 11.500000000000002, 8.0], [22.0, 18.5, 11.500000000000002, 8.0], [22.0, 18.5, 11.500000000000002, 8.0]]}, {\"colorscale\": [[0, \"#FFD700\"], [1, \"#FFD700\"]], \"name\": \"nanoparticle 12\", \"showscale\": false, \"type\": \"surface\", \"uid\": \"048618c9-b0b9-4c56-ad24-b4fd973275c3\", \"x\": [[30.0, 36.06217782649107, 36.06217782649107, 30.0], [30.0, 26.968911086754467, 26.968911086754467, 30.0], [30.0, 26.968911086754463, 26.96891108675446, 30.0], [30.0, 36.06217782649107, 36.06217782649107, 30.0]], \"y\": [[15.0, 15.0, 15.0, 15.0], [15.0, 20.25, 20.25, 15.0], [15.0, 9.750000000000004, 9.750000000000002, 15.0], [15.0, 14.999999999999998, 14.999999999999998, 15.0]], \"z\": [[7.0, 3.500000000000001, -3.4999999999999982, -7.0], [7.0, 3.500000000000001, -3.4999999999999982, -7.0], [7.0, 3.500000000000001, -3.4999999999999982, -7.0], [7.0, 3.500000000000001, -3.4999999999999982, -7.0]]}, {\"colorscale\": [[0, \"#FFD700\"], [1, \"#FFD700\"]], \"name\": \"nanoparticle 13\", \"showscale\": false, \"type\": \"surface\", \"uid\": \"46fe7252-cd86-42cf-b62d-510188a9cdb6\", \"x\": [[30.0, 36.06217782649107, 36.06217782649107, 30.0], [30.0, 26.968911086754467, 26.968911086754467, 30.0], [30.0, 26.968911086754463, 26.96891108675446, 30.0], [30.0, 36.06217782649107, 36.06217782649107, 30.0]], \"y\": [[15.0, 15.0, 15.0, 15.0], [15.0, 20.25, 20.25, 15.0], [15.0, 9.750000000000004, 9.750000000000002, 15.0], [15.0, 14.999999999999998, 14.999999999999998, 15.0]], \"z\": [[22.0, 18.5, 11.500000000000002, 8.0], [22.0, 18.5, 11.500000000000002, 8.0], [22.0, 18.5, 11.500000000000002, 8.0], [22.0, 18.5, 11.500000000000002, 8.0]]}, {\"colorscale\": [[0, \"#FFD700\"], [1, \"#FFD700\"]], \"name\": \"nanoparticle 14\", \"showscale\": false, \"type\": \"surface\", \"uid\": \"59d88051-3b86-4b71-872f-a75199c9a8fa\", \"x\": [[30.0, 36.06217782649107, 36.06217782649107, 30.0], [30.0, 26.968911086754467, 26.968911086754467, 30.0], [30.0, 26.968911086754463, 26.96891108675446, 30.0], [30.0, 36.06217782649107, 36.06217782649107, 30.0]], \"y\": [[30.0, 30.0, 30.0, 30.0], [30.0, 35.25, 35.25, 30.0], [30.0, 24.750000000000004, 24.75, 30.0], [30.0, 30.0, 30.0, 30.0]], \"z\": [[7.0, 3.500000000000001, -3.4999999999999982, -7.0], [7.0, 3.500000000000001, -3.4999999999999982, -7.0], [7.0, 3.500000000000001, -3.4999999999999982, -7.0], [7.0, 3.500000000000001, -3.4999999999999982, -7.0]]}, {\"colorscale\": [[0, \"#FFD700\"], [1, \"#FFD700\"]], \"name\": \"nanoparticle 15\", \"showscale\": false, \"type\": \"surface\", \"uid\": \"ad4c868a-f2a7-451a-8028-22586f9395b4\", \"x\": [[30.0, 36.06217782649107, 36.06217782649107, 30.0], [30.0, 26.968911086754467, 26.968911086754467, 30.0], [30.0, 26.968911086754463, 26.96891108675446, 30.0], [30.0, 36.06217782649107, 36.06217782649107, 30.0]], \"y\": [[30.0, 30.0, 30.0, 30.0], [30.0, 35.25, 35.25, 30.0], [30.0, 24.750000000000004, 24.75, 30.0], [30.0, 30.0, 30.0, 30.0]], \"z\": [[22.0, 18.5, 11.500000000000002, 8.0], [22.0, 18.5, 11.500000000000002, 8.0], [22.0, 18.5, 11.500000000000002, 8.0], [22.0, 18.5, 11.500000000000002, 8.0]]}, {\"colorscale\": [[0, \"#FFD700\"], [1, \"#FFD700\"]], \"name\": \"nanoparticle 16\", \"showscale\": false, \"type\": \"surface\", \"uid\": \"f10f6c7e-f0d9-4ca0-a1d6-032f35b4c8fa\", \"x\": [[30.0, 36.06217782649107, 36.06217782649107, 30.0], [30.0, 26.968911086754467, 26.968911086754467, 30.0], [30.0, 26.968911086754463, 26.96891108675446, 30.0], [30.0, 36.06217782649107, 36.06217782649107, 30.0]], \"y\": [[45.0, 45.0, 45.0, 45.0], [45.0, 50.25, 50.25, 45.0], [45.0, 39.75, 39.75, 45.0], [45.0, 45.0, 45.0, 45.0]], \"z\": [[7.0, 3.500000000000001, -3.4999999999999982, -7.0], [7.0, 3.500000000000001, -3.4999999999999982, -7.0], [7.0, 3.500000000000001, -3.4999999999999982, -7.0], [7.0, 3.500000000000001, -3.4999999999999982, -7.0]]}, {\"colorscale\": [[0, \"#FFD700\"], [1, \"#FFD700\"]], \"name\": \"nanoparticle 17\", \"showscale\": false, \"type\": \"surface\", \"uid\": \"f3394976-a589-45c2-a50f-547b487fdeb7\", \"x\": [[30.0, 36.06217782649107, 36.06217782649107, 30.0], [30.0, 26.968911086754467, 26.968911086754467, 30.0], [30.0, 26.968911086754463, 26.96891108675446, 30.0], [30.0, 36.06217782649107, 36.06217782649107, 30.0]], \"y\": [[45.0, 45.0, 45.0, 45.0], [45.0, 50.25, 50.25, 45.0], [45.0, 39.75, 39.75, 45.0], [45.0, 45.0, 45.0, 45.0]], \"z\": [[22.0, 18.5, 11.500000000000002, 8.0], [22.0, 18.5, 11.500000000000002, 8.0], [22.0, 18.5, 11.500000000000002, 8.0], [22.0, 18.5, 11.500000000000002, 8.0]]}, {\"colorscale\": [[0, \"#FFD700\"], [1, \"#FFD700\"]], \"name\": \"nanoparticle 18\", \"showscale\": false, \"type\": \"surface\", \"uid\": \"51ca4887-379b-43c3-9c88-3c42648fe11b\", \"x\": [[30.0, 36.06217782649107, 36.06217782649107, 30.0], [30.0, 26.968911086754467, 26.968911086754467, 30.0], [30.0, 26.968911086754463, 26.96891108675446, 30.0], [30.0, 36.06217782649107, 36.06217782649107, 30.0]], \"y\": [[60.0, 60.0, 60.0, 60.0], [60.0, 65.25, 65.25, 60.0], [60.0, 54.75, 54.75, 60.0], [60.0, 60.0, 60.0, 60.0]], \"z\": [[7.0, 3.500000000000001, -3.4999999999999982, -7.0], [7.0, 3.500000000000001, -3.4999999999999982, -7.0], [7.0, 3.500000000000001, -3.4999999999999982, -7.0], [7.0, 3.500000000000001, -3.4999999999999982, -7.0]]}, {\"colorscale\": [[0, \"#FFD700\"], [1, \"#FFD700\"]], \"name\": \"nanoparticle 19\", \"showscale\": false, \"type\": \"surface\", \"uid\": \"e026e8da-e339-43b1-bf9d-26f84a26ba1b\", \"x\": [[30.0, 36.06217782649107, 36.06217782649107, 30.0], [30.0, 26.968911086754467, 26.968911086754467, 30.0], [30.0, 26.968911086754463, 26.96891108675446, 30.0], [30.0, 36.06217782649107, 36.06217782649107, 30.0]], \"y\": [[60.0, 60.0, 60.0, 60.0], [60.0, 65.25, 65.25, 60.0], [60.0, 54.75, 54.75, 60.0], [60.0, 60.0, 60.0, 60.0]], \"z\": [[22.0, 18.5, 11.500000000000002, 8.0], [22.0, 18.5, 11.500000000000002, 8.0], [22.0, 18.5, 11.500000000000002, 8.0], [22.0, 18.5, 11.500000000000002, 8.0]]}, {\"colorscale\": [[0, \"#FFD700\"], [1, \"#FFD700\"]], \"name\": \"nanoparticle 20\", \"showscale\": false, \"type\": \"surface\", \"uid\": \"ce6ce7c3-3699-4de0-9570-918f2af899b3\", \"x\": [[60.0, 66.06217782649107, 66.06217782649107, 60.0], [60.0, 56.96891108675447, 56.96891108675447, 60.0], [60.0, 56.96891108675446, 56.96891108675446, 60.0], [60.0, 66.06217782649107, 66.06217782649107, 60.0]], \"y\": [[0.0, 0.0, 0.0, 0.0], [0.0, 5.25, 5.250000000000001, 7.424026671074348e-16], [0.0, -5.249999999999997, -5.249999999999998, -7.424026671074346e-16], [0.0, -1.4848053342148694e-15, -1.4848053342148696e-15, -2.0996636957266007e-31]], \"z\": [[7.0, 3.500000000000001, -3.4999999999999982, -7.0], [7.0, 3.500000000000001, -3.4999999999999982, -7.0], [7.0, 3.500000000000001, -3.4999999999999982, -7.0], [7.0, 3.500000000000001, -3.4999999999999982, -7.0]]}, {\"colorscale\": [[0, \"#FFD700\"], [1, \"#FFD700\"]], \"name\": \"nanoparticle 21\", \"showscale\": false, \"type\": \"surface\", \"uid\": \"f9a99eda-7974-4407-b26c-1d448c682606\", \"x\": [[60.0, 66.06217782649107, 66.06217782649107, 60.0], [60.0, 56.96891108675447, 56.96891108675447, 60.0], [60.0, 56.96891108675446, 56.96891108675446, 60.0], [60.0, 66.06217782649107, 66.06217782649107, 60.0]], \"y\": [[0.0, 0.0, 0.0, 0.0], [0.0, 5.25, 5.250000000000001, 7.424026671074348e-16], [0.0, -5.249999999999997, -5.249999999999998, -7.424026671074346e-16], [0.0, -1.4848053342148694e-15, -1.4848053342148696e-15, -2.0996636957266007e-31]], \"z\": [[22.0, 18.5, 11.500000000000002, 8.0], [22.0, 18.5, 11.500000000000002, 8.0], [22.0, 18.5, 11.500000000000002, 8.0], [22.0, 18.5, 11.500000000000002, 8.0]]}, {\"colorscale\": [[0, \"#FFD700\"], [1, \"#FFD700\"]], \"name\": \"nanoparticle 22\", \"showscale\": false, \"type\": \"surface\", \"uid\": \"bafbd39b-9fd2-4551-80bd-43920f816188\", \"x\": [[60.0, 66.06217782649107, 66.06217782649107, 60.0], [60.0, 56.96891108675447, 56.96891108675447, 60.0], [60.0, 56.96891108675446, 56.96891108675446, 60.0], [60.0, 66.06217782649107, 66.06217782649107, 60.0]], \"y\": [[15.0, 15.0, 15.0, 15.0], [15.0, 20.25, 20.25, 15.0], [15.0, 9.750000000000004, 9.750000000000002, 15.0], [15.0, 14.999999999999998, 14.999999999999998, 15.0]], \"z\": [[7.0, 3.500000000000001, -3.4999999999999982, -7.0], [7.0, 3.500000000000001, -3.4999999999999982, -7.0], [7.0, 3.500000000000001, -3.4999999999999982, -7.0], [7.0, 3.500000000000001, -3.4999999999999982, -7.0]]}, {\"colorscale\": [[0, \"#FFD700\"], [1, \"#FFD700\"]], \"name\": \"nanoparticle 23\", \"showscale\": false, \"type\": \"surface\", \"uid\": \"50a63df6-c38e-40c8-9897-2488166bfe11\", \"x\": [[60.0, 66.06217782649107, 66.06217782649107, 60.0], [60.0, 56.96891108675447, 56.96891108675447, 60.0], [60.0, 56.96891108675446, 56.96891108675446, 60.0], [60.0, 66.06217782649107, 66.06217782649107, 60.0]], \"y\": [[15.0, 15.0, 15.0, 15.0], [15.0, 20.25, 20.25, 15.0], [15.0, 9.750000000000004, 9.750000000000002, 15.0], [15.0, 14.999999999999998, 14.999999999999998, 15.0]], \"z\": [[22.0, 18.5, 11.500000000000002, 8.0], [22.0, 18.5, 11.500000000000002, 8.0], [22.0, 18.5, 11.500000000000002, 8.0], [22.0, 18.5, 11.500000000000002, 8.0]]}, {\"colorscale\": [[0, \"#FFD700\"], [1, \"#FFD700\"]], \"name\": \"nanoparticle 24\", \"showscale\": false, \"type\": \"surface\", \"uid\": \"e018ec42-12d0-46a2-b7be-9cee2f4b8780\", \"x\": [[60.0, 66.06217782649107, 66.06217782649107, 60.0], [60.0, 56.96891108675447, 56.96891108675447, 60.0], [60.0, 56.96891108675446, 56.96891108675446, 60.0], [60.0, 66.06217782649107, 66.06217782649107, 60.0]], \"y\": [[30.0, 30.0, 30.0, 30.0], [30.0, 35.25, 35.25, 30.0], [30.0, 24.750000000000004, 24.75, 30.0], [30.0, 30.0, 30.0, 30.0]], \"z\": [[7.0, 3.500000000000001, -3.4999999999999982, -7.0], [7.0, 3.500000000000001, -3.4999999999999982, -7.0], [7.0, 3.500000000000001, -3.4999999999999982, -7.0], [7.0, 3.500000000000001, -3.4999999999999982, -7.0]]}, {\"colorscale\": [[0, \"#FFD700\"], [1, \"#FFD700\"]], \"name\": \"nanoparticle 25\", \"showscale\": false, \"type\": \"surface\", \"uid\": \"eaea3252-1284-44a0-8b76-c7e876e037de\", \"x\": [[60.0, 66.06217782649107, 66.06217782649107, 60.0], [60.0, 56.96891108675447, 56.96891108675447, 60.0], [60.0, 56.96891108675446, 56.96891108675446, 60.0], [60.0, 66.06217782649107, 66.06217782649107, 60.0]], \"y\": [[30.0, 30.0, 30.0, 30.0], [30.0, 35.25, 35.25, 30.0], [30.0, 24.750000000000004, 24.75, 30.0], [30.0, 30.0, 30.0, 30.0]], \"z\": [[22.0, 18.5, 11.500000000000002, 8.0], [22.0, 18.5, 11.500000000000002, 8.0], [22.0, 18.5, 11.500000000000002, 8.0], [22.0, 18.5, 11.500000000000002, 8.0]]}, {\"colorscale\": [[0, \"#FFD700\"], [1, \"#FFD700\"]], \"name\": \"nanoparticle 26\", \"showscale\": false, \"type\": \"surface\", \"uid\": \"2956a11b-af9c-4d78-932f-ec0713901e1e\", \"x\": [[60.0, 66.06217782649107, 66.06217782649107, 60.0], [60.0, 56.96891108675447, 56.96891108675447, 60.0], [60.0, 56.96891108675446, 56.96891108675446, 60.0], [60.0, 66.06217782649107, 66.06217782649107, 60.0]], \"y\": [[45.0, 45.0, 45.0, 45.0], [45.0, 50.25, 50.25, 45.0], [45.0, 39.75, 39.75, 45.0], [45.0, 45.0, 45.0, 45.0]], \"z\": [[7.0, 3.500000000000001, -3.4999999999999982, -7.0], [7.0, 3.500000000000001, -3.4999999999999982, -7.0], [7.0, 3.500000000000001, -3.4999999999999982, -7.0], [7.0, 3.500000000000001, -3.4999999999999982, -7.0]]}, {\"colorscale\": [[0, \"#FFD700\"], [1, \"#FFD700\"]], \"name\": \"nanoparticle 27\", \"showscale\": false, \"type\": \"surface\", \"uid\": \"8a39ad26-8b43-4f8a-8417-1fd9f5a4e977\", \"x\": [[60.0, 66.06217782649107, 66.06217782649107, 60.0], [60.0, 56.96891108675447, 56.96891108675447, 60.0], [60.0, 56.96891108675446, 56.96891108675446, 60.0], [60.0, 66.06217782649107, 66.06217782649107, 60.0]], \"y\": [[45.0, 45.0, 45.0, 45.0], [45.0, 50.25, 50.25, 45.0], [45.0, 39.75, 39.75, 45.0], [45.0, 45.0, 45.0, 45.0]], \"z\": [[22.0, 18.5, 11.500000000000002, 8.0], [22.0, 18.5, 11.500000000000002, 8.0], [22.0, 18.5, 11.500000000000002, 8.0], [22.0, 18.5, 11.500000000000002, 8.0]]}, {\"colorscale\": [[0, \"#FFD700\"], [1, \"#FFD700\"]], \"name\": \"nanoparticle 28\", \"showscale\": false, \"type\": \"surface\", \"uid\": \"841b0a17-823a-44e1-b1df-801817bf7897\", \"x\": [[60.0, 66.06217782649107, 66.06217782649107, 60.0], [60.0, 56.96891108675447, 56.96891108675447, 60.0], [60.0, 56.96891108675446, 56.96891108675446, 60.0], [60.0, 66.06217782649107, 66.06217782649107, 60.0]], \"y\": [[60.0, 60.0, 60.0, 60.0], [60.0, 65.25, 65.25, 60.0], [60.0, 54.75, 54.75, 60.0], [60.0, 60.0, 60.0, 60.0]], \"z\": [[7.0, 3.500000000000001, -3.4999999999999982, -7.0], [7.0, 3.500000000000001, -3.4999999999999982, -7.0], [7.0, 3.500000000000001, -3.4999999999999982, -7.0], [7.0, 3.500000000000001, -3.4999999999999982, -7.0]]}, {\"colorscale\": [[0, \"#FFD700\"], [1, \"#FFD700\"]], \"name\": \"nanoparticle 29\", \"showscale\": false, \"type\": \"surface\", \"uid\": \"30cab588-2361-4b5e-96d2-4a0a2a881537\", \"x\": [[60.0, 66.06217782649107, 66.06217782649107, 60.0], [60.0, 56.96891108675447, 56.96891108675447, 60.0], [60.0, 56.96891108675446, 56.96891108675446, 60.0], [60.0, 66.06217782649107, 66.06217782649107, 60.0]], \"y\": [[60.0, 60.0, 60.0, 60.0], [60.0, 65.25, 65.25, 60.0], [60.0, 54.75, 54.75, 60.0], [60.0, 60.0, 60.0, 60.0]], \"z\": [[22.0, 18.5, 11.500000000000002, 8.0], [22.0, 18.5, 11.500000000000002, 8.0], [22.0, 18.5, 11.500000000000002, 8.0], [22.0, 18.5, 11.500000000000002, 8.0]]}, {\"colorscale\": [[0, \"#FFD700\"], [1, \"#FFD700\"]], \"name\": \"nanoparticle 30\", \"showscale\": false, \"type\": \"surface\", \"uid\": \"bb918356-5b1e-45c7-911f-82fab8e1e72a\", \"x\": [[90.0, 96.06217782649107, 96.06217782649107, 90.0], [90.0, 86.96891108675446, 86.96891108675446, 90.0], [90.0, 86.96891108675446, 86.96891108675446, 90.0], [90.0, 96.06217782649107, 96.06217782649107, 90.0]], \"y\": [[0.0, 0.0, 0.0, 0.0], [0.0, 5.25, 5.250000000000001, 7.424026671074348e-16], [0.0, -5.249999999999997, -5.249999999999998, -7.424026671074346e-16], [0.0, -1.4848053342148694e-15, -1.4848053342148696e-15, -2.0996636957266007e-31]], \"z\": [[7.0, 3.500000000000001, -3.4999999999999982, -7.0], [7.0, 3.500000000000001, -3.4999999999999982, -7.0], [7.0, 3.500000000000001, -3.4999999999999982, -7.0], [7.0, 3.500000000000001, -3.4999999999999982, -7.0]]}, {\"colorscale\": [[0, \"#FFD700\"], [1, \"#FFD700\"]], \"name\": \"nanoparticle 31\", \"showscale\": false, \"type\": \"surface\", \"uid\": \"59c84e3f-93e3-4aaf-a926-3709f9e08b71\", \"x\": [[90.0, 96.06217782649107, 96.06217782649107, 90.0], [90.0, 86.96891108675446, 86.96891108675446, 90.0], [90.0, 86.96891108675446, 86.96891108675446, 90.0], [90.0, 96.06217782649107, 96.06217782649107, 90.0]], \"y\": [[0.0, 0.0, 0.0, 0.0], [0.0, 5.25, 5.250000000000001, 7.424026671074348e-16], [0.0, -5.249999999999997, -5.249999999999998, -7.424026671074346e-16], [0.0, -1.4848053342148694e-15, -1.4848053342148696e-15, -2.0996636957266007e-31]], \"z\": [[22.0, 18.5, 11.500000000000002, 8.0], [22.0, 18.5, 11.500000000000002, 8.0], [22.0, 18.5, 11.500000000000002, 8.0], [22.0, 18.5, 11.500000000000002, 8.0]]}, {\"colorscale\": [[0, \"#FFD700\"], [1, \"#FFD700\"]], \"name\": \"nanoparticle 32\", \"showscale\": false, \"type\": \"surface\", \"uid\": \"178c651c-1f61-45ce-8624-e7464e66ae45\", \"x\": [[90.0, 96.06217782649107, 96.06217782649107, 90.0], [90.0, 86.96891108675446, 86.96891108675446, 90.0], [90.0, 86.96891108675446, 86.96891108675446, 90.0], [90.0, 96.06217782649107, 96.06217782649107, 90.0]], \"y\": [[15.0, 15.0, 15.0, 15.0], [15.0, 20.25, 20.25, 15.0], [15.0, 9.750000000000004, 9.750000000000002, 15.0], [15.0, 14.999999999999998, 14.999999999999998, 15.0]], \"z\": [[7.0, 3.500000000000001, -3.4999999999999982, -7.0], [7.0, 3.500000000000001, -3.4999999999999982, -7.0], [7.0, 3.500000000000001, -3.4999999999999982, -7.0], [7.0, 3.500000000000001, -3.4999999999999982, -7.0]]}, {\"colorscale\": [[0, \"#FFD700\"], [1, \"#FFD700\"]], \"name\": \"nanoparticle 33\", \"showscale\": false, \"type\": \"surface\", \"uid\": \"f67a30cc-51c3-45e3-8cd9-60c17597cc17\", \"x\": [[90.0, 96.06217782649107, 96.06217782649107, 90.0], [90.0, 86.96891108675446, 86.96891108675446, 90.0], [90.0, 86.96891108675446, 86.96891108675446, 90.0], [90.0, 96.06217782649107, 96.06217782649107, 90.0]], \"y\": [[15.0, 15.0, 15.0, 15.0], [15.0, 20.25, 20.25, 15.0], [15.0, 9.750000000000004, 9.750000000000002, 15.0], [15.0, 14.999999999999998, 14.999999999999998, 15.0]], \"z\": [[22.0, 18.5, 11.500000000000002, 8.0], [22.0, 18.5, 11.500000000000002, 8.0], [22.0, 18.5, 11.500000000000002, 8.0], [22.0, 18.5, 11.500000000000002, 8.0]]}, {\"colorscale\": [[0, \"#FFD700\"], [1, \"#FFD700\"]], \"name\": \"nanoparticle 34\", \"showscale\": false, \"type\": \"surface\", \"uid\": \"aca44456-14b3-4535-a978-c5ba12e9bc5c\", \"x\": [[90.0, 96.06217782649107, 96.06217782649107, 90.0], [90.0, 86.96891108675446, 86.96891108675446, 90.0], [90.0, 86.96891108675446, 86.96891108675446, 90.0], [90.0, 96.06217782649107, 96.06217782649107, 90.0]], \"y\": [[30.0, 30.0, 30.0, 30.0], [30.0, 35.25, 35.25, 30.0], [30.0, 24.750000000000004, 24.75, 30.0], [30.0, 30.0, 30.0, 30.0]], \"z\": [[7.0, 3.500000000000001, -3.4999999999999982, -7.0], [7.0, 3.500000000000001, -3.4999999999999982, -7.0], [7.0, 3.500000000000001, -3.4999999999999982, -7.0], [7.0, 3.500000000000001, -3.4999999999999982, -7.0]]}, {\"colorscale\": [[0, \"#FFD700\"], [1, \"#FFD700\"]], \"name\": \"nanoparticle 35\", \"showscale\": false, \"type\": \"surface\", \"uid\": \"27af5354-332c-4d2b-a611-8cbadb3843a7\", \"x\": [[90.0, 96.06217782649107, 96.06217782649107, 90.0], [90.0, 86.96891108675446, 86.96891108675446, 90.0], [90.0, 86.96891108675446, 86.96891108675446, 90.0], [90.0, 96.06217782649107, 96.06217782649107, 90.0]], \"y\": [[30.0, 30.0, 30.0, 30.0], [30.0, 35.25, 35.25, 30.0], [30.0, 24.750000000000004, 24.75, 30.0], [30.0, 30.0, 30.0, 30.0]], \"z\": [[22.0, 18.5, 11.500000000000002, 8.0], [22.0, 18.5, 11.500000000000002, 8.0], [22.0, 18.5, 11.500000000000002, 8.0], [22.0, 18.5, 11.500000000000002, 8.0]]}, {\"colorscale\": [[0, \"#FFD700\"], [1, \"#FFD700\"]], \"name\": \"nanoparticle 36\", \"showscale\": false, \"type\": \"surface\", \"uid\": \"142d14cc-a775-4e58-b388-c67025056914\", \"x\": [[90.0, 96.06217782649107, 96.06217782649107, 90.0], [90.0, 86.96891108675446, 86.96891108675446, 90.0], [90.0, 86.96891108675446, 86.96891108675446, 90.0], [90.0, 96.06217782649107, 96.06217782649107, 90.0]], \"y\": [[45.0, 45.0, 45.0, 45.0], [45.0, 50.25, 50.25, 45.0], [45.0, 39.75, 39.75, 45.0], [45.0, 45.0, 45.0, 45.0]], \"z\": [[7.0, 3.500000000000001, -3.4999999999999982, -7.0], [7.0, 3.500000000000001, -3.4999999999999982, -7.0], [7.0, 3.500000000000001, -3.4999999999999982, -7.0], [7.0, 3.500000000000001, -3.4999999999999982, -7.0]]}, {\"colorscale\": [[0, \"#FFD700\"], [1, \"#FFD700\"]], \"name\": \"nanoparticle 37\", \"showscale\": false, \"type\": \"surface\", \"uid\": \"98c5cb98-705f-44fa-bf26-b6a195395b06\", \"x\": [[90.0, 96.06217782649107, 96.06217782649107, 90.0], [90.0, 86.96891108675446, 86.96891108675446, 90.0], [90.0, 86.96891108675446, 86.96891108675446, 90.0], [90.0, 96.06217782649107, 96.06217782649107, 90.0]], \"y\": [[45.0, 45.0, 45.0, 45.0], [45.0, 50.25, 50.25, 45.0], [45.0, 39.75, 39.75, 45.0], [45.0, 45.0, 45.0, 45.0]], \"z\": [[22.0, 18.5, 11.500000000000002, 8.0], [22.0, 18.5, 11.500000000000002, 8.0], [22.0, 18.5, 11.500000000000002, 8.0], [22.0, 18.5, 11.500000000000002, 8.0]]}, {\"colorscale\": [[0, \"#FFD700\"], [1, \"#FFD700\"]], \"name\": \"nanoparticle 38\", \"showscale\": false, \"type\": \"surface\", \"uid\": \"0656cf3e-5a25-4050-8f15-588a0e3670d8\", \"x\": [[90.0, 96.06217782649107, 96.06217782649107, 90.0], [90.0, 86.96891108675446, 86.96891108675446, 90.0], [90.0, 86.96891108675446, 86.96891108675446, 90.0], [90.0, 96.06217782649107, 96.06217782649107, 90.0]], \"y\": [[60.0, 60.0, 60.0, 60.0], [60.0, 65.25, 65.25, 60.0], [60.0, 54.75, 54.75, 60.0], [60.0, 60.0, 60.0, 60.0]], \"z\": [[7.0, 3.500000000000001, -3.4999999999999982, -7.0], [7.0, 3.500000000000001, -3.4999999999999982, -7.0], [7.0, 3.500000000000001, -3.4999999999999982, -7.0], [7.0, 3.500000000000001, -3.4999999999999982, -7.0]]}, {\"colorscale\": [[0, \"#FFD700\"], [1, \"#FFD700\"]], \"name\": \"nanoparticle 39\", \"showscale\": false, \"type\": \"surface\", \"uid\": \"99533162-2b7f-4880-bb94-22712c3d8e90\", \"x\": [[90.0, 96.06217782649107, 96.06217782649107, 90.0], [90.0, 86.96891108675446, 86.96891108675446, 90.0], [90.0, 86.96891108675446, 86.96891108675446, 90.0], [90.0, 96.06217782649107, 96.06217782649107, 90.0]], \"y\": [[60.0, 60.0, 60.0, 60.0], [60.0, 65.25, 65.25, 60.0], [60.0, 54.75, 54.75, 60.0], [60.0, 60.0, 60.0, 60.0]], \"z\": [[22.0, 18.5, 11.500000000000002, 8.0], [22.0, 18.5, 11.500000000000002, 8.0], [22.0, 18.5, 11.500000000000002, 8.0], [22.0, 18.5, 11.500000000000002, 8.0]]}, {\"colorscale\": [[0, \"#FFD700\"], [1, \"#FFD700\"]], \"name\": \"nanoparticle 40\", \"showscale\": false, \"type\": \"surface\", \"uid\": \"f047d0f4-c414-4db7-b3e9-402f8b4c8517\", \"x\": [[120.0, 126.06217782649107, 126.06217782649107, 120.0], [120.0, 116.96891108675446, 116.96891108675446, 120.0], [120.0, 116.96891108675446, 116.96891108675446, 120.0], [120.0, 126.06217782649107, 126.06217782649107, 120.0]], \"y\": [[0.0, 0.0, 0.0, 0.0], [0.0, 5.25, 5.250000000000001, 7.424026671074348e-16], [0.0, -5.249999999999997, -5.249999999999998, -7.424026671074346e-16], [0.0, -1.4848053342148694e-15, -1.4848053342148696e-15, -2.0996636957266007e-31]], \"z\": [[7.0, 3.500000000000001, -3.4999999999999982, -7.0], [7.0, 3.500000000000001, -3.4999999999999982, -7.0], [7.0, 3.500000000000001, -3.4999999999999982, -7.0], [7.0, 3.500000000000001, -3.4999999999999982, -7.0]]}, {\"colorscale\": [[0, \"#FFD700\"], [1, \"#FFD700\"]], \"name\": \"nanoparticle 41\", \"showscale\": false, \"type\": \"surface\", \"uid\": \"c1adbc9a-591a-499a-b7cd-8baba22a080b\", \"x\": [[120.0, 126.06217782649107, 126.06217782649107, 120.0], [120.0, 116.96891108675446, 116.96891108675446, 120.0], [120.0, 116.96891108675446, 116.96891108675446, 120.0], [120.0, 126.06217782649107, 126.06217782649107, 120.0]], \"y\": [[0.0, 0.0, 0.0, 0.0], [0.0, 5.25, 5.250000000000001, 7.424026671074348e-16], [0.0, -5.249999999999997, -5.249999999999998, -7.424026671074346e-16], [0.0, -1.4848053342148694e-15, -1.4848053342148696e-15, -2.0996636957266007e-31]], \"z\": [[22.0, 18.5, 11.500000000000002, 8.0], [22.0, 18.5, 11.500000000000002, 8.0], [22.0, 18.5, 11.500000000000002, 8.0], [22.0, 18.5, 11.500000000000002, 8.0]]}, {\"colorscale\": [[0, \"#FFD700\"], [1, \"#FFD700\"]], \"name\": \"nanoparticle 42\", \"showscale\": false, \"type\": \"surface\", \"uid\": \"1959fcee-d61c-44ac-99e5-697cfe9fc661\", \"x\": [[120.0, 126.06217782649107, 126.06217782649107, 120.0], [120.0, 116.96891108675446, 116.96891108675446, 120.0], [120.0, 116.96891108675446, 116.96891108675446, 120.0], [120.0, 126.06217782649107, 126.06217782649107, 120.0]], \"y\": [[15.0, 15.0, 15.0, 15.0], [15.0, 20.25, 20.25, 15.0], [15.0, 9.750000000000004, 9.750000000000002, 15.0], [15.0, 14.999999999999998, 14.999999999999998, 15.0]], \"z\": [[7.0, 3.500000000000001, -3.4999999999999982, -7.0], [7.0, 3.500000000000001, -3.4999999999999982, -7.0], [7.0, 3.500000000000001, -3.4999999999999982, -7.0], [7.0, 3.500000000000001, -3.4999999999999982, -7.0]]}, {\"colorscale\": [[0, \"#FFD700\"], [1, \"#FFD700\"]], \"name\": \"nanoparticle 43\", \"showscale\": false, \"type\": \"surface\", \"uid\": \"8d709c79-3ae0-4382-8c8c-8a9475d55599\", \"x\": [[120.0, 126.06217782649107, 126.06217782649107, 120.0], [120.0, 116.96891108675446, 116.96891108675446, 120.0], [120.0, 116.96891108675446, 116.96891108675446, 120.0], [120.0, 126.06217782649107, 126.06217782649107, 120.0]], \"y\": [[15.0, 15.0, 15.0, 15.0], [15.0, 20.25, 20.25, 15.0], [15.0, 9.750000000000004, 9.750000000000002, 15.0], [15.0, 14.999999999999998, 14.999999999999998, 15.0]], \"z\": [[22.0, 18.5, 11.500000000000002, 8.0], [22.0, 18.5, 11.500000000000002, 8.0], [22.0, 18.5, 11.500000000000002, 8.0], [22.0, 18.5, 11.500000000000002, 8.0]]}, {\"colorscale\": [[0, \"#FFD700\"], [1, \"#FFD700\"]], \"name\": \"nanoparticle 44\", \"showscale\": false, \"type\": \"surface\", \"uid\": \"22c6bc88-2329-4c44-97ef-31f212482113\", \"x\": [[120.0, 126.06217782649107, 126.06217782649107, 120.0], [120.0, 116.96891108675446, 116.96891108675446, 120.0], [120.0, 116.96891108675446, 116.96891108675446, 120.0], [120.0, 126.06217782649107, 126.06217782649107, 120.0]], \"y\": [[30.0, 30.0, 30.0, 30.0], [30.0, 35.25, 35.25, 30.0], [30.0, 24.750000000000004, 24.75, 30.0], [30.0, 30.0, 30.0, 30.0]], \"z\": [[7.0, 3.500000000000001, -3.4999999999999982, -7.0], [7.0, 3.500000000000001, -3.4999999999999982, -7.0], [7.0, 3.500000000000001, -3.4999999999999982, -7.0], [7.0, 3.500000000000001, -3.4999999999999982, -7.0]]}, {\"colorscale\": [[0, \"#FFD700\"], [1, \"#FFD700\"]], \"name\": \"nanoparticle 45\", \"showscale\": false, \"type\": \"surface\", \"uid\": \"0976efc5-447a-4b0f-bf5e-89ac2a9d9797\", \"x\": [[120.0, 126.06217782649107, 126.06217782649107, 120.0], [120.0, 116.96891108675446, 116.96891108675446, 120.0], [120.0, 116.96891108675446, 116.96891108675446, 120.0], [120.0, 126.06217782649107, 126.06217782649107, 120.0]], \"y\": [[30.0, 30.0, 30.0, 30.0], [30.0, 35.25, 35.25, 30.0], [30.0, 24.750000000000004, 24.75, 30.0], [30.0, 30.0, 30.0, 30.0]], \"z\": [[22.0, 18.5, 11.500000000000002, 8.0], [22.0, 18.5, 11.500000000000002, 8.0], [22.0, 18.5, 11.500000000000002, 8.0], [22.0, 18.5, 11.500000000000002, 8.0]]}, {\"colorscale\": [[0, \"#FFD700\"], [1, \"#FFD700\"]], \"name\": \"nanoparticle 46\", \"showscale\": false, \"type\": \"surface\", \"uid\": \"716d55e9-d9a7-4625-a6c0-aa612a460518\", \"x\": [[120.0, 126.06217782649107, 126.06217782649107, 120.0], [120.0, 116.96891108675446, 116.96891108675446, 120.0], [120.0, 116.96891108675446, 116.96891108675446, 120.0], [120.0, 126.06217782649107, 126.06217782649107, 120.0]], \"y\": [[45.0, 45.0, 45.0, 45.0], [45.0, 50.25, 50.25, 45.0], [45.0, 39.75, 39.75, 45.0], [45.0, 45.0, 45.0, 45.0]], \"z\": [[7.0, 3.500000000000001, -3.4999999999999982, -7.0], [7.0, 3.500000000000001, -3.4999999999999982, -7.0], [7.0, 3.500000000000001, -3.4999999999999982, -7.0], [7.0, 3.500000000000001, -3.4999999999999982, -7.0]]}, {\"colorscale\": [[0, \"#FFD700\"], [1, \"#FFD700\"]], \"name\": \"nanoparticle 47\", \"showscale\": false, \"type\": \"surface\", \"uid\": \"42bb8639-f431-4e79-9c67-59945ebd702d\", \"x\": [[120.0, 126.06217782649107, 126.06217782649107, 120.0], [120.0, 116.96891108675446, 116.96891108675446, 120.0], [120.0, 116.96891108675446, 116.96891108675446, 120.0], [120.0, 126.06217782649107, 126.06217782649107, 120.0]], \"y\": [[45.0, 45.0, 45.0, 45.0], [45.0, 50.25, 50.25, 45.0], [45.0, 39.75, 39.75, 45.0], [45.0, 45.0, 45.0, 45.0]], \"z\": [[22.0, 18.5, 11.500000000000002, 8.0], [22.0, 18.5, 11.500000000000002, 8.0], [22.0, 18.5, 11.500000000000002, 8.0], [22.0, 18.5, 11.500000000000002, 8.0]]}, {\"colorscale\": [[0, \"#FFD700\"], [1, \"#FFD700\"]], \"name\": \"nanoparticle 48\", \"showscale\": false, \"type\": \"surface\", \"uid\": \"879207d5-6e63-4189-8b62-9e908ab5b2ce\", \"x\": [[120.0, 126.06217782649107, 126.06217782649107, 120.0], [120.0, 116.96891108675446, 116.96891108675446, 120.0], [120.0, 116.96891108675446, 116.96891108675446, 120.0], [120.0, 126.06217782649107, 126.06217782649107, 120.0]], \"y\": [[60.0, 60.0, 60.0, 60.0], [60.0, 65.25, 65.25, 60.0], [60.0, 54.75, 54.75, 60.0], [60.0, 60.0, 60.0, 60.0]], \"z\": [[7.0, 3.500000000000001, -3.4999999999999982, -7.0], [7.0, 3.500000000000001, -3.4999999999999982, -7.0], [7.0, 3.500000000000001, -3.4999999999999982, -7.0], [7.0, 3.500000000000001, -3.4999999999999982, -7.0]]}, {\"colorscale\": [[0, \"#FFD700\"], [1, \"#FFD700\"]], \"name\": \"nanoparticle 49\", \"showscale\": false, \"type\": \"surface\", \"uid\": \"2c084996-765e-44ec-af34-26a7fa06d5d3\", \"x\": [[120.0, 126.06217782649107, 126.06217782649107, 120.0], [120.0, 116.96891108675446, 116.96891108675446, 120.0], [120.0, 116.96891108675446, 116.96891108675446, 120.0], [120.0, 126.06217782649107, 126.06217782649107, 120.0]], \"y\": [[60.0, 60.0, 60.0, 60.0], [60.0, 65.25, 65.25, 60.0], [60.0, 54.75, 54.75, 60.0], [60.0, 60.0, 60.0, 60.0]], \"z\": [[22.0, 18.5, 11.500000000000002, 8.0], [22.0, 18.5, 11.500000000000002, 8.0], [22.0, 18.5, 11.500000000000002, 8.0], [22.0, 18.5, 11.500000000000002, 8.0]]}],\n",
       "                        {\"scene\": {\"aspectmode\": \"data\", \"xaxis\": {\"backgroundcolor\": \"rgb(230, 230,230)\", \"gridcolor\": \"rgb(255, 255, 255)\", \"showbackground\": true, \"zerolinecolor\": \"rgb(255, 255, 255)\"}, \"yaxis\": {\"backgroundcolor\": \"rgb(230, 230,230)\", \"gridcolor\": \"rgb(255, 255, 255)\", \"showbackground\": true, \"zerolinecolor\": \"rgb(255, 255, 255)\"}, \"zaxis\": {\"backgroundcolor\": \"rgb(230, 230,230)\", \"gridcolor\": \"rgb(255, 255, 255)\", \"showbackground\": true, \"zerolinecolor\": \"rgb(255, 255, 255)\"}}, \"title\": {\"text\": \"3D target plot\"}},\n",
       "                        {\"showLink\": false, \"linkText\": \"Export to plot.ly\", \"plotlyServerURL\": \"https://plot.ly\", \"responsive\": true}\n",
       "                    ).then(function(){\n",
       "                            \n",
       "var gd = document.getElementById('977406bc-5109-42b7-bf7c-f432cfecd66c');\n",
       "var x = new MutationObserver(function (mutations, observer) {{\n",
       "        var display = window.getComputedStyle(gd).display;\n",
       "        if (!display || display === 'none') {{\n",
       "            console.log([gd, 'removed!']);\n",
       "            Plotly.purge(gd);\n",
       "            observer.disconnect();\n",
       "        }}\n",
       "}});\n",
       "\n",
       "// Listen for the removal of the full notebook cells\n",
       "var notebookContainer = gd.closest('#notebook-container');\n",
       "if (notebookContainer) {{\n",
       "    x.observe(notebookContainer, {childList: true});\n",
       "}}\n",
       "\n",
       "// Listen for the clearing of the current output cell\n",
       "var outputEl = gd.closest('.output');\n",
       "if (outputEl) {{\n",
       "    x.observe(outputEl, {childList: true});\n",
       "}}\n",
       "\n",
       "                        })\n",
       "                };\n",
       "                });\n",
       "            </script>\n",
       "        </div>"
      ]
     },
     "metadata": {},
     "output_type": "display_data"
    }
   ],
   "source": [
    "def sphericalSurfacePlotCoordinates(radius,center_xyz,npoints):\n",
    "    # Parametrical definition of a spherical surface in 3d:\n",
    "    u = np.linspace(0, 2 * np.pi, npoints) # longitude\n",
    "    v = np.linspace(0, np.pi, npoints) # colatitude\n",
    "    \n",
    "    # Coordinates:\n",
    "    x = radius * np.outer(np.cos(u), np.sin(v)) + center_xyz[0]\n",
    "    y = radius * np.outer(np.sin(u), np.sin(v)) + center_xyz[1];\n",
    "    z = radius * np.outer(np.ones(np.size(u)), np.cos(v)) +center_xyz[2];\n",
    "    \n",
    "    return x,y,z\n",
    "\n",
    "data = []\n",
    "definition = 4;\n",
    "\n",
    "for i in range(len(v_r)):\n",
    "    x, y, z = sphericalSurfacePlotCoordinates(v_r[i],m_xyz[i,:],definition)\n",
    "    surface = go.Surface(x=x,y=y,z=z,colorscale=[[0,v_col[i]], [1, v_col[i]]],showscale=False,name='nanoparticle '+str(i))\n",
    "    data.append(surface)\n",
    "    \n",
    "layout = go.Layout(\n",
    "    title='3D target plot',\n",
    "    scene=dict(\n",
    "        aspectmode='data',\n",
    "        xaxis=dict(\n",
    "            gridcolor='rgb(255, 255, 255)',\n",
    "            zerolinecolor='rgb(255, 255, 255)',\n",
    "            showbackground=True,\n",
    "            backgroundcolor='rgb(230, 230,230)'\n",
    "        ),\n",
    "        yaxis=dict(\n",
    "            gridcolor='rgb(255, 255, 255)',\n",
    "            zerolinecolor='rgb(255, 255, 255)',\n",
    "            showbackground=True,\n",
    "            backgroundcolor='rgb(230, 230,230)'\n",
    "        ),\n",
    "        zaxis=dict(\n",
    "            gridcolor='rgb(255, 255, 255)',\n",
    "            zerolinecolor='rgb(255, 255, 255)',\n",
    "            showbackground=True,\n",
    "            backgroundcolor='rgb(230, 230,230)'\n",
    "        )\n",
    "    )\n",
    ")\n",
    "\n",
    "fig = go.Figure(data=data, layout=layout)\n",
    "iplot(fig, filename='3D target plot')"
   ]
  },
  {
   "cell_type": "markdown",
   "metadata": {},
   "source": [
    "## Performing the calculations"
   ]
  },
  {
   "cell_type": "markdown",
   "metadata": {},
   "source": [
    "### Scattering cross sections and field expansion coefficients for the spectral computation"
   ]
  },
  {
   "cell_type": "code",
   "execution_count": 7,
   "metadata": {
    "code_folding": [
     0
    ],
    "scrolled": true
   },
   "outputs": [],
   "source": [
    "# computing the expansion coefficients and cross sections with a loop\n",
    "m_abcd_ext_sca_abs = []  # list to be filled with the output\n",
    "for wl in v_wl:\n",
    "    \n",
    "    # retrieving optical constants at wl from the database\n",
    "    e_list=py_gmm.mat.db_to_eps(wl,eps_db,target_comp);\n",
    "    m_eps=np.column_stack((np.real(e_list),np.imag(e_list)));\n",
    "    \n",
    "    # solving the gmm problem (calculating the cross sections and the expansion coefficients)\n",
    "    out=py_gmm.gmm_py.gmm_f2py_module.expansion_coefficients(m_xyz, # target sphere position in nm\n",
    "                                                      v_r,   # target sphere radii in nm\n",
    "                                                      m_eps, # e1 and e2 for each sphere\n",
    "                                                      f_int,  # interaction coefficient\n",
    "                                                      n_matrix, # environment refractive index\n",
    "                                                      wl, # computation wavelength\n",
    "                                                      alpha,beta,gamma, # euler angles for the incident pw\n",
    "                                                      n_stop, # maximum number for expansion coefficients\n",
    "                                                      qs_flag) # quasi static approximation\n",
    "    m_abcd_ext_sca_abs.append(out)\n",
    "    \n",
    "# extracting coefficients and cross section\n",
    "v_coeff=[];v_cext=[];v_csca=[];v_cabs=[];\n",
    "for out in m_abcd_ext_sca_abs:\n",
    "    v_coeff.append(out[0]);\n",
    "    v_cext.append(out[1]);\n",
    "    v_csca.append(out[2]);\n",
    "    v_cabs.append(out[3]);\n",
    "\n",
    "# converting the lists to numpy arrays\n",
    "v_coeff=np.array(v_coeff)\n",
    "v_cext=np.array(v_cext)\n",
    "v_csca=np.array(v_csca)\n",
    "v_cabs=np.array(v_cabs)"
   ]
  },
  {
   "cell_type": "markdown",
   "metadata": {},
   "source": [
    "### Scattered field"
   ]
  },
  {
   "cell_type": "code",
   "execution_count": 8,
   "metadata": {
    "code_folding": [
     0
    ]
   },
   "outputs": [],
   "source": [
    "# local field for the first resonance\n",
    "v_far = []\n",
    "for wl_lf in v_wl_lf:\n",
    "\n",
    "    # optical constants\n",
    "    e_list=py_gmm.mat.db_to_eps(wl_lf,eps_db,target_comp);\n",
    "    m_eps=np.column_stack((np.real(e_list),np.imag(e_list)));\n",
    "\n",
    "    # gmm coefficients computation\n",
    "    out=py_gmm.gmm_py.gmm_f2py_module.expansion_coefficients(m_xyz,  # target sphere position in nm\n",
    "                                                             v_r,  # target sphere radii in nm\n",
    "                                                             m_eps,  # e1 and e2 for each sphere\n",
    "                                                             f_int,  # interaction coefficient\n",
    "                                                             n_matrix,  # environment refractive index\n",
    "                                                             wl_lf, # computation wavelength\n",
    "                                                             alpha,beta,gamma,  # euler angles for the incident pw\n",
    "                                                             n_stop,  # maximum number for expansion coefficients\n",
    "                                                             qs_flag)  # quasi static approximation\n",
    "    v_amnbmn=out[0][:,0] # getting field expansion coefficients\n",
    "    v_dmncmn=out[0][:,1]\n",
    "\n",
    "    # local field\n",
    "    v_emn=py_gmm.gmm_py.gmm_f2py_module.emn(n_stop)[0] # normalization coeffs\n",
    "\n",
    "    # retrieving the scattered cloud\n",
    "    k_far = 2.0*np.pi*n_matrix/wl_lf\n",
    "    m_sc, scatot, error = py_gmm.gmm_py.gmm_f2py_module.efar(k_far,\n",
    "                                                             n_stop,\n",
    "                                                             0.0,3.6e2,360,\n",
    "                                                             180,\n",
    "                                                             0.0,\n",
    "                                                             v_amnbmn,\n",
    "                                                             m_xyz)\n",
    "    v_far.append(m_sc)"
   ]
  },
  {
   "cell_type": "markdown",
   "metadata": {},
   "source": [
    "# Plotting the results"
   ]
  },
  {
   "cell_type": "markdown",
   "metadata": {},
   "source": [
    "### Extinction cross section"
   ]
  },
  {
   "cell_type": "code",
   "execution_count": 9,
   "metadata": {
    "code_folding": [
     0
    ]
   },
   "outputs": [
    {
     "data": {
      "image/png": "[encoded data removed]",
      "text/plain": [
       "<Figure size 1080x720 with 1 Axes>"
      ]
     },
     "metadata": {
      "needs_background": "light"
     },
     "output_type": "display_data"
    }
   ],
   "source": [
    "# cross section plot\n",
    "f_size=25;\n",
    "f_size_ticks=20;\n",
    "plt.figure(1,figsize=(15,10));\n",
    "plt.plot(v_wl,np.sum(v_cext,axis=1),'k',linewidth=3.0);\n",
    "\n",
    "# plt title\n",
    "plt.title('N Au NP',fontsize=f_size)\n",
    "\n",
    "# axes labels\n",
    "plt.xlabel(r'wavelength (nm)', fontsize=f_size)\n",
    "plt.ylabel(r'Cext', fontsize=f_size)\n",
    "\n",
    "# ticks\n",
    "plt.xticks(fontsize=f_size_ticks)\n",
    "plt.yticks(fontsize=f_size_ticks)\n",
    "\n",
    "# legend\n",
    "plt.legend('Integral C$_{ext}$',frameon=True,fontsize=f_size-5)\n",
    "\n",
    "# layout\n",
    "plt.tight_layout()"
   ]
  },
  {
   "cell_type": "code",
   "execution_count": null,
   "metadata": {},
   "outputs": [],
   "source": []
  }
 ],
 "metadata": {
  "anaconda-cloud": {},
  "kernelspec": {
   "display_name": "Python 3",
   "language": "python",
   "name": "python3"
  },
  "language_info": {
   "codemirror_mode": {
    "name": "ipython",
    "version": 3
   },
   "file_extension": ".py",
   "mimetype": "text/x-python",
   "name": "python",
   "nbconvert_exporter": "python",
   "pygments_lexer": "ipython3",
   "version": "3.7.3"
  }
 },
 "nbformat": 4,
 "nbformat_minor": 1
}
