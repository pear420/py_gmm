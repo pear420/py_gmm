{
 "cells": [
  {
   "cell_type": "markdown",
   "metadata": {},
   "source": [
    " # many Au NP\n",
    " In this notebook we calculate the the optical spectra and scattering pattern of a symmetric Au dimer.The notebook is structured as follows:\n",
    " *  **Importing the libraries:** setup of useful settings and import of necessary libraries and databases.\n",
    " *  **Setting up the inputs:** definition of the inputs of the simulation.\n",
    " *  **Performing the calculations**: call to py_gmm to compute all the relevant far-field quantities.\n",
    " *  **Plotting the results**: plot of cross-section and radiation pattern\n",
    " \n",
    " In order to run the notebook Plotly library is needed. It can be installed with the following command (preferred):\n",
    " ```\n",
    " conda install -c https://conda.anaconda.org/plotly plotly\n",
    " ```\n",
    " or in alternative\n",
    " ```\n",
    " pip install plotly\n",
    "```\n",
    "Just one final thing: launch this notebook with the `--NotebookApp.iopub_data_rate_limit=1.0e10` option, or it will fail"
   ]
  },
  {
   "cell_type": "markdown",
   "metadata": {},
   "source": [
    "# Importing the libraries"
   ]
  },
  {
   "cell_type": "code",
   "execution_count": 1,
   "metadata": {
    "code_folding": [
     0
    ]
   },
   "outputs": [
    {
     "data": {
      "text/html": [
       "        <script type=\"text/javascript\">\n",
       "        window.PlotlyConfig = {MathJaxConfig: 'local'};\n",
       "        if (window.MathJax) {MathJax.Hub.Config({SVG: {font: \"STIX-Web\"}});}\n",
       "        if (typeof require !== 'undefined') {\n",
       "        require.undef(\"plotly\");\n",
       "        requirejs.config({\n",
       "            paths: {\n",
       "                'plotly': ['https://cdn.plot.ly/plotly-latest.min']\n",
       "            }\n",
       "        });\n",
       "        require(['plotly'], function(Plotly) {\n",
       "            window._Plotly = Plotly;\n",
       "        });\n",
       "        }\n",
       "        </script>\n",
       "        "
      ]
     },
     "metadata": {},
     "output_type": "display_data"
    },
    {
     "name": "stdout",
     "output_type": "stream",
     "text": [
      "3.8.1\n"
     ]
    }
   ],
   "source": [
    "#------Library loading------\n",
    "\n",
    "# numpy for matrix computations\n",
    "import numpy as np; import numpy.ma as ma\n",
    "\n",
    "# system libraries\n",
    "import sys\n",
    "\n",
    "# plotting libraries\n",
    "%matplotlib inline\n",
    "import matplotlib.pylab as plt\n",
    "from matplotlib.patches import Circle, Ellipse\n",
    "\n",
    "# Generalized Multiparticle Mie import\n",
    "sys.path.append('../')\n",
    "import py_gmm\n",
    "\n",
    "# plotly\n",
    "from plotly import __version__\n",
    "import plotly.graph_objs as go\n",
    "from plotly.offline import download_plotlyjs, init_notebook_mode, plot, iplot\n",
    "init_notebook_mode(connected=True)\n",
    "\n",
    "print(__version__) # requires version >= 1.9.0"
   ]
  },
  {
   "cell_type": "markdown",
   "metadata": {
    "code_folding": []
   },
   "source": [
    "# Setting up the inputs"
   ]
  },
  {
   "cell_type": "markdown",
   "metadata": {},
   "source": [
    "### Target inputs (optical constant database, sphere coordinates, composition and size)"
   ]
  },
  {
   "cell_type": "code",
   "execution_count": 2,
   "metadata": {
    "code_folding": [
     0
    ]
   },
   "outputs": [],
   "source": [
    "# building the optical constant database\n",
    "eps_db_out=py_gmm.mat.generate_eps_db('../epsilon/',ext='*.edb')\n",
    "eps_files,eps_names,eps_db=eps_db_out['eps_files'],eps_db_out['eps_names'],eps_db_out['eps_db']\n",
    "\n",
    "# Number of nanoparticles on the cube side:\n",
    "nx = 3;\n",
    "ny = 3; \n",
    "nz = 3;\n",
    "\n",
    "# Total numberof nanoparticles:\n",
    "N = nx*ny*nz;\n",
    "\n",
    "# dx,dy,dz:\n",
    "d = [20, 20, 20];\n",
    "\n",
    "# sphere radius (in nm)\n",
    "r = 9;\n",
    "v_r = r*np.ones(int(N))\n",
    "\n",
    "# Positions (in nm)\n",
    "m_xyz = np.array([0, 0, 0])\n",
    "\n",
    "# Name for the plot:\n",
    "name = [];\n",
    "\n",
    "for i in range(0,nx):\n",
    "    for j in range(ny):\n",
    "        for k in range(nz):\n",
    "            m_xyz=np.vstack((m_xyz,[0.+i*d[0],0.+j*d[1],0.+k*d[2]]))\n",
    "            name.append('Size:'+str(v_r[i])+'[nm]')\n",
    "m_xyz = np.delete(m_xyz,0,0)\n",
    "\n",
    "# how many spheres in the target? We guess it from he length of the radius vector\n",
    "ns = len(v_r)\n",
    "\n",
    "# sphere composition, calling the names contained in \"eps_names\", just populated above\n",
    "target_comp= np.array(ns*['eAuJCSTDf']) # vector containing the optical constants names\n",
    "\n",
    "# colours for the plots:\n",
    "v_col = ns*['#FFD700']\n",
    "\n",
    "# refractive index of the environment\n",
    "n_matrix = 1.33  # water"
   ]
  },
  {
   "cell_type": "markdown",
   "metadata": {},
   "source": [
    "### Plane wave incident field"
   ]
  },
  {
   "cell_type": "code",
   "execution_count": 3,
   "metadata": {
    "code_folding": [
     0
    ]
   },
   "outputs": [],
   "source": [
    "# Euler angles: (alpha,beta,gamma)=(0,0,0) means a z-directed, x-polarized plane wave\n",
    "alpha = 0.0   # azimuth\n",
    "beta = 0.0  # polar\n",
    "gamma = 0.0  # polarization\n",
    "\n",
    "# Wavelengths for the specrum computation\n",
    "wl_min = 300\n",
    "wl_max = 800\n",
    "n_wl = 250\n",
    "v_wl = np.linspace(wl_min,wl_max,n_wl)\n",
    "\n",
    "# Wavelength for the far field computation\n",
    "v_wl_lf = [530.0,650] # resonance wavelengths"
   ]
  },
  {
   "cell_type": "markdown",
   "metadata": {},
   "source": [
    "### Additional inputs for the simulation"
   ]
  },
  {
   "cell_type": "code",
   "execution_count": 4,
   "metadata": {
    "code_folding": [
     0
    ]
   },
   "outputs": [],
   "source": [
    "n_stop=3 # maximum multipolar expansion order\n",
    "f_int=0.0; # interaction cutoff (normally set to zero to have full interactions)\n",
    "lf_ratio=300; # plot sphere local field contribution up to a distance equal to d=lf_ratio*r_sphere\n",
    "qs_flag='no' # retarded simulation"
   ]
  },
  {
   "cell_type": "markdown",
   "metadata": {},
   "source": [
    "### 2D Target plot"
   ]
  },
  {
   "cell_type": "code",
   "execution_count": 5,
   "metadata": {
    "code_folding": [
     0
    ]
   },
   "outputs": [
    {
     "data": {
      "image/png": "[encoded data removed]",
      "text/plain": [
       "<Figure size 720x720 with 1 Axes>"
      ]
     },
     "metadata": {
      "needs_background": "light"
     },
     "output_type": "display_data"
    }
   ],
   "source": [
    "# target plot\n",
    "fig = plt.figure(num=1,figsize=(10,10)) # setting the figure size\n",
    "ax = fig.add_subplot(1, 1, 1, aspect='equal')  # creating the plotting axis\n",
    "\n",
    "# plot bounds and eliminating x and y ticks\n",
    "plt.xlim(-(m_xyz[:,0].min()+1.1*v_r.max()),(m_xyz[:,0].max()+1.1*v_r.max()))\n",
    "plt.ylim(-(m_xyz[:,1].min()+1.1*v_r.max()),(m_xyz[:,1].max()+1.1*v_r.max()))\n",
    "plt.xlabel('x [nm]')\n",
    "plt.ylabel('y [nm]')\n",
    "\n",
    "\n",
    "# plotting the target\n",
    "for c,r,col in zip(m_xyz,v_r,v_col):\n",
    "    c0=c[0];c1=c[1];\n",
    "    ax.add_patch(Circle((c0,c1),r,color=col))"
   ]
  },
  {
   "cell_type": "markdown",
   "metadata": {},
   "source": [
    "### 3D Target plot"
   ]
  },
  {
   "cell_type": "code",
   "execution_count": 6,
   "metadata": {},
   "outputs": [
    {
     "data": {
      "application/vnd.plotly.v1+json": {
       "config": {
        "linkText": "Export to plot.ly",
        "plotlyServerURL": "https://plot.ly",
        "responsive": true,
        "showLink": false
       },
       "data": [
        {
         "marker": {
          "color": [
           "#FFD700",
           "#FFD700",
           "#FFD700",
           "#FFD700",
           "#FFD700",
           "#FFD700",
           "#FFD700",
           "#FFD700",
           "#FFD700",
           "#FFD700",
           "#FFD700",
           "#FFD700",
           "#FFD700",
           "#FFD700",
           "#FFD700",
           "#FFD700",
           "#FFD700",
           "#FFD700",
           "#FFD700",
           "#FFD700",
           "#FFD700",
           "#FFD700",
           "#FFD700",
           "#FFD700",
           "#FFD700",
           "#FFD700",
           "#FFD700"
          ],
          "size": [
           18,
           18,
           18,
           18,
           18,
           18,
           18,
           18,
           18,
           18,
           18,
           18,
           18,
           18,
           18,
           18,
           18,
           18,
           18,
           18,
           18,
           18,
           18,
           18,
           18,
           18,
           18
          ],
          "sizemode": "diameter"
         },
         "mode": "markers",
         "text": [
          "Size:9.0[nm]",
          "Size:9.0[nm]",
          "Size:9.0[nm]",
          "Size:9.0[nm]",
          "Size:9.0[nm]",
          "Size:9.0[nm]",
          "Size:9.0[nm]",
          "Size:9.0[nm]",
          "Size:9.0[nm]",
          "Size:9.0[nm]",
          "Size:9.0[nm]",
          "Size:9.0[nm]",
          "Size:9.0[nm]",
          "Size:9.0[nm]",
          "Size:9.0[nm]",
          "Size:9.0[nm]",
          "Size:9.0[nm]",
          "Size:9.0[nm]",
          "Size:9.0[nm]",
          "Size:9.0[nm]",
          "Size:9.0[nm]",
          "Size:9.0[nm]",
          "Size:9.0[nm]",
          "Size:9.0[nm]",
          "Size:9.0[nm]",
          "Size:9.0[nm]",
          "Size:9.0[nm]"
         ],
         "type": "scatter3d",
         "uid": "32040a96-4fcb-4e53-b8d8-c683cc93f030",
         "x": [
          0,
          0,
          0,
          0,
          0,
          0,
          0,
          0,
          0,
          20,
          20,
          20,
          20,
          20,
          20,
          20,
          20,
          20,
          40,
          40,
          40,
          40,
          40,
          40,
          40,
          40,
          40
         ],
         "y": [
          0,
          0,
          0,
          20,
          20,
          20,
          40,
          40,
          40,
          0,
          0,
          0,
          20,
          20,
          20,
          40,
          40,
          40,
          0,
          0,
          0,
          20,
          20,
          20,
          40,
          40,
          40
         ],
         "z": [
          0,
          20,
          40,
          0,
          20,
          40,
          0,
          20,
          40,
          0,
          20,
          40,
          0,
          20,
          40,
          0,
          20,
          40,
          0,
          20,
          40,
          0,
          20,
          40,
          0,
          20,
          40
         ]
        }
       ],
       "layout": {
        "height": 800,
        "scene": {
         "xaxis": {
          "title": {
           "text": "x"
          }
         },
         "yaxis": {
          "title": {
           "text": "y"
          }
         },
         "zaxis": {
          "title": {
           "text": "z"
          }
         }
        },
        "title": {
         "text": "3D target plot"
        },
        "width": 800
       }
      },
      "text/html": [
       "<div>\n",
       "        \n",
       "        \n",
       "            <div id=\"f29d8ab1-3ade-432a-b655-5f8a202b8e68\" class=\"plotly-graph-div\" style=\"height:800px; width:800px;\"></div>\n",
       "            <script type=\"text/javascript\">\n",
       "                require([\"plotly\"], function(Plotly) {\n",
       "                    window.PLOTLYENV=window.PLOTLYENV || {};\n",
       "                    window.PLOTLYENV.BASE_URL='https://plot.ly';\n",
       "                    \n",
       "                if (document.getElementById(\"f29d8ab1-3ade-432a-b655-5f8a202b8e68\")) {\n",
       "                    Plotly.newPlot(\n",
       "                        'f29d8ab1-3ade-432a-b655-5f8a202b8e68',\n",
       "                        [{\"marker\": {\"color\": [\"#FFD700\", \"#FFD700\", \"#FFD700\", \"#FFD700\", \"#FFD700\", \"#FFD700\", \"#FFD700\", \"#FFD700\", \"#FFD700\", \"#FFD700\", \"#FFD700\", \"#FFD700\", \"#FFD700\", \"#FFD700\", \"#FFD700\", \"#FFD700\", \"#FFD700\", \"#FFD700\", \"#FFD700\", \"#FFD700\", \"#FFD700\", \"#FFD700\", \"#FFD700\", \"#FFD700\", \"#FFD700\", \"#FFD700\", \"#FFD700\"], \"size\": [18.0, 18.0, 18.0, 18.0, 18.0, 18.0, 18.0, 18.0, 18.0, 18.0, 18.0, 18.0, 18.0, 18.0, 18.0, 18.0, 18.0, 18.0, 18.0, 18.0, 18.0, 18.0, 18.0, 18.0, 18.0, 18.0, 18.0], \"sizemode\": \"diameter\"}, \"mode\": \"markers\", \"text\": [\"Size:9.0[nm]\", \"Size:9.0[nm]\", \"Size:9.0[nm]\", \"Size:9.0[nm]\", \"Size:9.0[nm]\", \"Size:9.0[nm]\", \"Size:9.0[nm]\", \"Size:9.0[nm]\", \"Size:9.0[nm]\", \"Size:9.0[nm]\", \"Size:9.0[nm]\", \"Size:9.0[nm]\", \"Size:9.0[nm]\", \"Size:9.0[nm]\", \"Size:9.0[nm]\", \"Size:9.0[nm]\", \"Size:9.0[nm]\", \"Size:9.0[nm]\", \"Size:9.0[nm]\", \"Size:9.0[nm]\", \"Size:9.0[nm]\", \"Size:9.0[nm]\", \"Size:9.0[nm]\", \"Size:9.0[nm]\", \"Size:9.0[nm]\", \"Size:9.0[nm]\", \"Size:9.0[nm]\"], \"type\": \"scatter3d\", \"uid\": \"cf17552d-f0fe-419d-bcb8-1a6dcf517f54\", \"x\": [0.0, 0.0, 0.0, 0.0, 0.0, 0.0, 0.0, 0.0, 0.0, 20.0, 20.0, 20.0, 20.0, 20.0, 20.0, 20.0, 20.0, 20.0, 40.0, 40.0, 40.0, 40.0, 40.0, 40.0, 40.0, 40.0, 40.0], \"y\": [0.0, 0.0, 0.0, 20.0, 20.0, 20.0, 40.0, 40.0, 40.0, 0.0, 0.0, 0.0, 20.0, 20.0, 20.0, 40.0, 40.0, 40.0, 0.0, 0.0, 0.0, 20.0, 20.0, 20.0, 40.0, 40.0, 40.0], \"z\": [0.0, 20.0, 40.0, 0.0, 20.0, 40.0, 0.0, 20.0, 40.0, 0.0, 20.0, 40.0, 0.0, 20.0, 40.0, 0.0, 20.0, 40.0, 0.0, 20.0, 40.0, 0.0, 20.0, 40.0, 0.0, 20.0, 40.0]}],\n",
       "                        {\"height\": 800, \"scene\": {\"xaxis\": {\"title\": {\"text\": \"x\"}}, \"yaxis\": {\"title\": {\"text\": \"y\"}}, \"zaxis\": {\"title\": {\"text\": \"z\"}}}, \"title\": {\"text\": \"3D target plot\"}, \"width\": 800},\n",
       "                        {\"showLink\": false, \"linkText\": \"Export to plot.ly\", \"plotlyServerURL\": \"https://plot.ly\", \"responsive\": true}\n",
       "                    ).then(function(){\n",
       "                            \n",
       "var gd = document.getElementById('f29d8ab1-3ade-432a-b655-5f8a202b8e68');\n",
       "var x = new MutationObserver(function (mutations, observer) {{\n",
       "        var display = window.getComputedStyle(gd).display;\n",
       "        if (!display || display === 'none') {{\n",
       "            console.log([gd, 'removed!']);\n",
       "            Plotly.purge(gd);\n",
       "            observer.disconnect();\n",
       "        }}\n",
       "}});\n",
       "\n",
       "// Listen for the removal of the full notebook cells\n",
       "var notebookContainer = gd.closest('#notebook-container');\n",
       "if (notebookContainer) {{\n",
       "    x.observe(notebookContainer, {childList: true});\n",
       "}}\n",
       "\n",
       "// Listen for the clearing of the current output cell\n",
       "var outputEl = gd.closest('.output');\n",
       "if (outputEl) {{\n",
       "    x.observe(outputEl, {childList: true});\n",
       "}}\n",
       "\n",
       "                        })\n",
       "                };\n",
       "                });\n",
       "            </script>\n",
       "        </div>"
      ]
     },
     "metadata": {},
     "output_type": "display_data"
    }
   ],
   "source": [
    "### 3D target plot:\n",
    "data = []\n",
    "\n",
    "trace = go.Scatter3d(\n",
    "        x = m_xyz[:,0],\n",
    "        y = m_xyz[:,1],\n",
    "        z = m_xyz[:,2],\n",
    "        text = name,\n",
    "        mode = 'markers',\n",
    "        marker = dict(\n",
    "            sizemode = 'diameter',\n",
    "            size = 2*v_r,\n",
    "            color = v_col\n",
    "        )\n",
    "    )\n",
    "data = [trace]\n",
    "\n",
    "layout=go.Layout(width=800, height=800, title = '3D target plot',\n",
    "            scene = dict(xaxis=dict(title='x'),\n",
    "                         yaxis=dict(title='y'),\n",
    "                         zaxis=dict(title='z')\n",
    "                        )\n",
    "        )\n",
    "                 \n",
    "fig=go.Figure(data=data, layout=layout)\n",
    "iplot(fig, filename='3D target plot')\n",
    "    "
   ]
  },
  {
   "cell_type": "markdown",
   "metadata": {},
   "source": [
    "## Performing the calculations"
   ]
  },
  {
   "cell_type": "markdown",
   "metadata": {},
   "source": [
    "### Scattering cross sections and field expansion coefficients for the spectral computation"
   ]
  },
  {
   "cell_type": "code",
   "execution_count": 7,
   "metadata": {
    "code_folding": [
     0
    ],
    "scrolled": true
   },
   "outputs": [],
   "source": [
    "# computing the expansion coefficients and cross sections with a loop\n",
    "m_abcd_ext_sca_abs = []  # list to be filled with the output\n",
    "for wl in v_wl:\n",
    "    \n",
    "    # retrieving optical constants at wl from the database\n",
    "    e_list=py_gmm.mat.db_to_eps(wl,eps_db,target_comp);\n",
    "    m_eps=np.column_stack((np.real(e_list),np.imag(e_list)));\n",
    "    \n",
    "    # solving the gmm problem (calculating the cross sections and the expansion coefficients)\n",
    "    out=py_gmm.gmm_py.gmm_f2py_module.expansion_coefficients(m_xyz, # target sphere position in nm\n",
    "                                                      v_r,   # target sphere radii in nm\n",
    "                                                      m_eps, # e1 and e2 for each sphere\n",
    "                                                      f_int,  # interaction coefficient\n",
    "                                                      n_matrix, # environment refractive index\n",
    "                                                      wl, # computation wavelength\n",
    "                                                      alpha,beta,gamma, # euler angles for the incident pw\n",
    "                                                      n_stop, # maximum number for expansion coefficients\n",
    "                                                      qs_flag) # quasi static approximation\n",
    "    m_abcd_ext_sca_abs.append(out)\n",
    "    \n",
    "# extracting coefficients and cross section\n",
    "v_coeff=[];v_cext=[];v_csca=[];v_cabs=[];\n",
    "for out in m_abcd_ext_sca_abs:\n",
    "    v_coeff.append(out[0]);\n",
    "    v_cext.append(out[1]);\n",
    "    v_csca.append(out[2]);\n",
    "    v_cabs.append(out[3]);\n",
    "\n",
    "# converting the lists to numpy arrays\n",
    "v_coeff=np.array(v_coeff)\n",
    "v_cext=np.array(v_cext)\n",
    "v_csca=np.array(v_csca)\n",
    "v_cabs=np.array(v_cabs)"
   ]
  },
  {
   "cell_type": "markdown",
   "metadata": {},
   "source": [
    "### Scattered field"
   ]
  },
  {
   "cell_type": "code",
   "execution_count": 8,
   "metadata": {
    "code_folding": [
     0
    ]
   },
   "outputs": [],
   "source": [
    "# local field for the first resonance\n",
    "v_far = []\n",
    "for wl_lf in v_wl_lf:\n",
    "\n",
    "    # optical constants\n",
    "    e_list=py_gmm.mat.db_to_eps(wl_lf,eps_db,target_comp);\n",
    "    m_eps=np.column_stack((np.real(e_list),np.imag(e_list)));\n",
    "\n",
    "    # gmm coefficients computation\n",
    "    out=py_gmm.gmm_py.gmm_f2py_module.expansion_coefficients(m_xyz,  # target sphere position in nm\n",
    "                                                             v_r,  # target sphere radii in nm\n",
    "                                                             m_eps,  # e1 and e2 for each sphere\n",
    "                                                             f_int,  # interaction coefficient\n",
    "                                                             n_matrix,  # environment refractive index\n",
    "                                                             wl_lf, # computation wavelength\n",
    "                                                             alpha,beta,gamma,  # euler angles for the incident pw\n",
    "                                                             n_stop,  # maximum number for expansion coefficients\n",
    "                                                             qs_flag)  # quasi static approximation\n",
    "    v_amnbmn=out[0][:,0] # getting field expansion coefficients\n",
    "    v_dmncmn=out[0][:,1]\n",
    "\n",
    "    # local field\n",
    "    v_emn=py_gmm.gmm_py.gmm_f2py_module.emn(n_stop)[0] # normalization coeffs\n",
    "\n",
    "    # retrieving the scattered cloud\n",
    "    k_far = 2.0*np.pi*n_matrix/wl_lf\n",
    "    m_sc, scatot, error = py_gmm.gmm_py.gmm_f2py_module.efar(k_far,\n",
    "                                                             n_stop,\n",
    "                                                             0.0,3.6e2,360,\n",
    "                                                             180,\n",
    "                                                             0.0,\n",
    "                                                             v_amnbmn,\n",
    "                                                             m_xyz)\n",
    "    v_far.append(m_sc)"
   ]
  },
  {
   "cell_type": "markdown",
   "metadata": {},
   "source": [
    "# Plotting the results"
   ]
  },
  {
   "cell_type": "markdown",
   "metadata": {},
   "source": [
    "### Extinction cross section"
   ]
  },
  {
   "cell_type": "code",
   "execution_count": 9,
   "metadata": {
    "code_folding": [
     0
    ]
   },
   "outputs": [
    {
     "data": {
      "image/png": "[encoded data removed]",
      "text/plain": [
       "<Figure size 1080x720 with 1 Axes>"
      ]
     },
     "metadata": {
      "needs_background": "light"
     },
     "output_type": "display_data"
    }
   ],
   "source": [
    "# cross section plot\n",
    "f_size=25;\n",
    "f_size_ticks=20;\n",
    "plt.figure(1,figsize=(15,10));\n",
    "plt.plot(v_wl,np.sum(v_cext,axis=1),'k',linewidth=3.0);\n",
    "\n",
    "# plt title\n",
    "plt.title('N Au NP',fontsize=f_size)\n",
    "\n",
    "# axes labels\n",
    "plt.xlabel(r'wavelength (nm)', fontsize=f_size)\n",
    "plt.ylabel(r'Cext', fontsize=f_size)\n",
    "\n",
    "# ticks\n",
    "plt.xticks(fontsize=f_size_ticks)\n",
    "plt.yticks(fontsize=f_size_ticks)\n",
    "\n",
    "# legend\n",
    "plt.legend('Integral C$_{ext}$',frameon=True,fontsize=f_size-5)\n",
    "\n",
    "# layout\n",
    "plt.tight_layout()"
   ]
  },
  {
   "cell_type": "code",
   "execution_count": null,
   "metadata": {},
   "outputs": [],
   "source": []
  }
 ],
 "metadata": {
  "anaconda-cloud": {},
  "kernelspec": {
   "display_name": "Python 3",
   "language": "python",
   "name": "python3"
  },
  "language_info": {
   "codemirror_mode": {
    "name": "ipython",
    "version": 3
   },
   "file_extension": ".py",
   "mimetype": "text/x-python",
   "name": "python",
   "nbconvert_exporter": "python",
   "pygments_lexer": "ipython3",
   "version": "3.7.3"
  }
 },
 "nbformat": 4,
 "nbformat_minor": 1
}
